{
 "cells": [
  {
   "metadata": {},
   "cell_type": "markdown",
   "source": [
    "# GHED importer\n",
    "\n",
    "The `GHED` importer is used to access data from the Global Health Expenditure Database (GHED) maintained by the World Health Organization (WHO)."
   ],
   "id": "da548870757dda00"
  },
  {
   "metadata": {},
   "cell_type": "markdown",
   "source": "### Basic Usage",
   "id": "56600b0caa0f9e2d"
  },
  {
   "metadata": {
    "ExecuteTime": {
     "end_time": "2024-11-06T16:27:22.488962Z",
     "start_time": "2024-11-06T16:27:22.171118Z"
    }
   },
   "cell_type": "code",
   "source": [
    "\n",
    "from bblocks import data_importers as bbdata"
   ],
   "id": "caa232896a2e1d8",
   "outputs": [],
   "execution_count": 1
  },
  {
   "metadata": {
    "ExecuteTime": {
     "end_time": "2024-11-06T16:28:42.978305Z",
     "start_time": "2024-11-06T16:28:07.667767Z"
    }
   },
   "cell_type": "code",
   "source": [
    "ghed = bbdata.GHED() # Create a GHED importer\n",
    "df = ghed.get_data() # Get the data as a dataframe"
   ],
   "id": "cb98583390d8cdf4",
   "outputs": [
    {
     "name": "stderr",
     "output_type": "stream",
     "text": [
      "INFO: Importing data from GHED database\n",
      "INFO: Data imported successfully\n"
     ]
    },
    {
     "data": {
      "text/plain": [
       "  country_name iso3_code  year indicator_code     value  \\\n",
       "0      Algeria       DZA  2000        che_gdp  3.489033   \n",
       "1      Algeria       DZA  2001        che_gdp  3.837877   \n",
       "2      Algeria       DZA  2002        che_gdp  3.730042   \n",
       "3      Algeria       DZA  2003        che_gdp  3.601041   \n",
       "4      Algeria       DZA  2004        che_gdp  3.544073   \n",
       "\n",
       "                                      indicator_name        unit currency  \n",
       "0  Current Health Expenditure (CHE) as % Gross Do...  Percentage     <NA>  \n",
       "1  Current Health Expenditure (CHE) as % Gross Do...  Percentage     <NA>  \n",
       "2  Current Health Expenditure (CHE) as % Gross Do...  Percentage     <NA>  \n",
       "3  Current Health Expenditure (CHE) as % Gross Do...  Percentage     <NA>  \n",
       "4  Current Health Expenditure (CHE) as % Gross Do...  Percentage     <NA>  "
      ],
      "text/html": [
       "<div>\n",
       "<style scoped>\n",
       "    .dataframe tbody tr th:only-of-type {\n",
       "        vertical-align: middle;\n",
       "    }\n",
       "\n",
       "    .dataframe tbody tr th {\n",
       "        vertical-align: top;\n",
       "    }\n",
       "\n",
       "    .dataframe thead th {\n",
       "        text-align: right;\n",
       "    }\n",
       "</style>\n",
       "<table border=\"1\" class=\"dataframe\">\n",
       "  <thead>\n",
       "    <tr style=\"text-align: right;\">\n",
       "      <th></th>\n",
       "      <th>country_name</th>\n",
       "      <th>iso3_code</th>\n",
       "      <th>year</th>\n",
       "      <th>indicator_code</th>\n",
       "      <th>value</th>\n",
       "      <th>indicator_name</th>\n",
       "      <th>unit</th>\n",
       "      <th>currency</th>\n",
       "    </tr>\n",
       "  </thead>\n",
       "  <tbody>\n",
       "    <tr>\n",
       "      <th>0</th>\n",
       "      <td>Algeria</td>\n",
       "      <td>DZA</td>\n",
       "      <td>2000</td>\n",
       "      <td>che_gdp</td>\n",
       "      <td>3.489033</td>\n",
       "      <td>Current Health Expenditure (CHE) as % Gross Do...</td>\n",
       "      <td>Percentage</td>\n",
       "      <td>&lt;NA&gt;</td>\n",
       "    </tr>\n",
       "    <tr>\n",
       "      <th>1</th>\n",
       "      <td>Algeria</td>\n",
       "      <td>DZA</td>\n",
       "      <td>2001</td>\n",
       "      <td>che_gdp</td>\n",
       "      <td>3.837877</td>\n",
       "      <td>Current Health Expenditure (CHE) as % Gross Do...</td>\n",
       "      <td>Percentage</td>\n",
       "      <td>&lt;NA&gt;</td>\n",
       "    </tr>\n",
       "    <tr>\n",
       "      <th>2</th>\n",
       "      <td>Algeria</td>\n",
       "      <td>DZA</td>\n",
       "      <td>2002</td>\n",
       "      <td>che_gdp</td>\n",
       "      <td>3.730042</td>\n",
       "      <td>Current Health Expenditure (CHE) as % Gross Do...</td>\n",
       "      <td>Percentage</td>\n",
       "      <td>&lt;NA&gt;</td>\n",
       "    </tr>\n",
       "    <tr>\n",
       "      <th>3</th>\n",
       "      <td>Algeria</td>\n",
       "      <td>DZA</td>\n",
       "      <td>2003</td>\n",
       "      <td>che_gdp</td>\n",
       "      <td>3.601041</td>\n",
       "      <td>Current Health Expenditure (CHE) as % Gross Do...</td>\n",
       "      <td>Percentage</td>\n",
       "      <td>&lt;NA&gt;</td>\n",
       "    </tr>\n",
       "    <tr>\n",
       "      <th>4</th>\n",
       "      <td>Algeria</td>\n",
       "      <td>DZA</td>\n",
       "      <td>2004</td>\n",
       "      <td>che_gdp</td>\n",
       "      <td>3.544073</td>\n",
       "      <td>Current Health Expenditure (CHE) as % Gross Do...</td>\n",
       "      <td>Percentage</td>\n",
       "      <td>&lt;NA&gt;</td>\n",
       "    </tr>\n",
       "  </tbody>\n",
       "</table>\n",
       "</div>"
      ]
     },
     "execution_count": 2,
     "metadata": {},
     "output_type": "execute_result"
    }
   ],
   "execution_count": 2
  },
  {
   "metadata": {},
   "cell_type": "code",
   "outputs": [],
   "execution_count": null,
   "source": "df.head()",
   "id": "8fb175013b0e4344"
  },
  {
   "metadata": {},
   "cell_type": "markdown",
   "source": "Metadata is also available for GHED data.",
   "id": "a1cdc7002550878a"
  },
  {
   "metadata": {
    "ExecuteTime": {
     "end_time": "2024-11-06T16:30:07.261584Z",
     "start_time": "2024-11-06T16:30:07.242964Z"
    }
   },
   "cell_type": "code",
   "source": [
    "metadata = ghed.get_metadata()\n",
    "metadata.head()"
   ],
   "id": "cb1e25f47e6dfaa1",
   "outputs": [
    {
     "data": {
      "text/plain": [
       "  country_name iso3_code                                     indicator_name  \\\n",
       "0      Algeria       DZA  Current health expenditure by revenues of heal...   \n",
       "1      Algeria       DZA  Transfers from government domestic revenue (al...   \n",
       "2      Algeria       DZA                      Internal transfers and grants   \n",
       "3      Algeria       DZA  Transfers distributed by government from forei...   \n",
       "4      Algeria       DZA                     Social insurance contributions   \n",
       "\n",
       "  indicator_code                                            sources  \\\n",
       "0             fs                 2019 - 2021: Sum of its components   \n",
       "1            fs1  2000 - 2018: Calculated as the difference betw...   \n",
       "2           fs11  2000 - 2018: Calculated as the difference betw...   \n",
       "3            fs2  2000 - 2002: Estimated using OECD DAC data; 20...   \n",
       "4            fs3  2000 - 2021: Estimated using the data for SHI ...   \n",
       "\n",
       "                                            comments  \\\n",
       "0                                               <NA>   \n",
       "1                                               <NA>   \n",
       "2                                               <NA>   \n",
       "3  2000 - 2002: Sum of ODA, OOF, and private disb...   \n",
       "4  2000 - 2014: may include government transfers ...   \n",
       "\n",
       "                                           data_type  \\\n",
       "0                             2019 - 2021: Estimated   \n",
       "1  2000 - 2018: Estimated; 2019: Documented; 2020...   \n",
       "2  2000 - 2018: Estimated; 2019: Documented; 2020...   \n",
       "3     2000 - 2001: Estimated; 2004 - 2021: Estimated   \n",
       "4                             2000 - 2021: Estimated   \n",
       "\n",
       "                               methods_of_estimation  \\\n",
       "0  2019 - 2021: Derived by applying the sum of th...   \n",
       "1  2000 - 2018: Derived by applying the sum of th...   \n",
       "2  2000 - 2018: Derived by applying the sum of th...   \n",
       "3     2017: Derived by applying linear interpolation   \n",
       "4                                               <NA>   \n",
       "\n",
       "                                    country_footnote  \n",
       "0  Data based on calendar year (January 1 to Dece...  \n",
       "1  Data based on calendar year (January 1 to Dece...  \n",
       "2  Data based on calendar year (January 1 to Dece...  \n",
       "3  Data based on calendar year (January 1 to Dece...  \n",
       "4  Data based on calendar year (January 1 to Dece...  "
      ],
      "text/html": [
       "<div>\n",
       "<style scoped>\n",
       "    .dataframe tbody tr th:only-of-type {\n",
       "        vertical-align: middle;\n",
       "    }\n",
       "\n",
       "    .dataframe tbody tr th {\n",
       "        vertical-align: top;\n",
       "    }\n",
       "\n",
       "    .dataframe thead th {\n",
       "        text-align: right;\n",
       "    }\n",
       "</style>\n",
       "<table border=\"1\" class=\"dataframe\">\n",
       "  <thead>\n",
       "    <tr style=\"text-align: right;\">\n",
       "      <th></th>\n",
       "      <th>country_name</th>\n",
       "      <th>iso3_code</th>\n",
       "      <th>indicator_name</th>\n",
       "      <th>indicator_code</th>\n",
       "      <th>sources</th>\n",
       "      <th>comments</th>\n",
       "      <th>data_type</th>\n",
       "      <th>methods_of_estimation</th>\n",
       "      <th>country_footnote</th>\n",
       "    </tr>\n",
       "  </thead>\n",
       "  <tbody>\n",
       "    <tr>\n",
       "      <th>0</th>\n",
       "      <td>Algeria</td>\n",
       "      <td>DZA</td>\n",
       "      <td>Current health expenditure by revenues of heal...</td>\n",
       "      <td>fs</td>\n",
       "      <td>2019 - 2021: Sum of its components</td>\n",
       "      <td>&lt;NA&gt;</td>\n",
       "      <td>2019 - 2021: Estimated</td>\n",
       "      <td>2019 - 2021: Derived by applying the sum of th...</td>\n",
       "      <td>Data based on calendar year (January 1 to Dece...</td>\n",
       "    </tr>\n",
       "    <tr>\n",
       "      <th>1</th>\n",
       "      <td>Algeria</td>\n",
       "      <td>DZA</td>\n",
       "      <td>Transfers from government domestic revenue (al...</td>\n",
       "      <td>fs1</td>\n",
       "      <td>2000 - 2018: Calculated as the difference betw...</td>\n",
       "      <td>&lt;NA&gt;</td>\n",
       "      <td>2000 - 2018: Estimated; 2019: Documented; 2020...</td>\n",
       "      <td>2000 - 2018: Derived by applying the sum of th...</td>\n",
       "      <td>Data based on calendar year (January 1 to Dece...</td>\n",
       "    </tr>\n",
       "    <tr>\n",
       "      <th>2</th>\n",
       "      <td>Algeria</td>\n",
       "      <td>DZA</td>\n",
       "      <td>Internal transfers and grants</td>\n",
       "      <td>fs11</td>\n",
       "      <td>2000 - 2018: Calculated as the difference betw...</td>\n",
       "      <td>&lt;NA&gt;</td>\n",
       "      <td>2000 - 2018: Estimated; 2019: Documented; 2020...</td>\n",
       "      <td>2000 - 2018: Derived by applying the sum of th...</td>\n",
       "      <td>Data based on calendar year (January 1 to Dece...</td>\n",
       "    </tr>\n",
       "    <tr>\n",
       "      <th>3</th>\n",
       "      <td>Algeria</td>\n",
       "      <td>DZA</td>\n",
       "      <td>Transfers distributed by government from forei...</td>\n",
       "      <td>fs2</td>\n",
       "      <td>2000 - 2002: Estimated using OECD DAC data; 20...</td>\n",
       "      <td>2000 - 2002: Sum of ODA, OOF, and private disb...</td>\n",
       "      <td>2000 - 2001: Estimated; 2004 - 2021: Estimated</td>\n",
       "      <td>2017: Derived by applying linear interpolation</td>\n",
       "      <td>Data based on calendar year (January 1 to Dece...</td>\n",
       "    </tr>\n",
       "    <tr>\n",
       "      <th>4</th>\n",
       "      <td>Algeria</td>\n",
       "      <td>DZA</td>\n",
       "      <td>Social insurance contributions</td>\n",
       "      <td>fs3</td>\n",
       "      <td>2000 - 2021: Estimated using the data for SHI ...</td>\n",
       "      <td>2000 - 2014: may include government transfers ...</td>\n",
       "      <td>2000 - 2021: Estimated</td>\n",
       "      <td>&lt;NA&gt;</td>\n",
       "      <td>Data based on calendar year (January 1 to Dece...</td>\n",
       "    </tr>\n",
       "  </tbody>\n",
       "</table>\n",
       "</div>"
      ]
     },
     "execution_count": 4,
     "metadata": {},
     "output_type": "execute_result"
    }
   ],
   "execution_count": 4
  },
  {
   "metadata": {},
   "cell_type": "markdown",
   "source": "The data from the GHED database is generally downloadable as an excel file. To access the data in this format, use the `export_raw_data` method passing a path to save the file. ",
   "id": "c9a3dfbe8c3b338"
  },
  {
   "metadata": {},
   "cell_type": "code",
   "outputs": [],
   "execution_count": null,
   "source": "# ghed.export_raw_data('path/to/save')",
   "id": "a55e48f9dd273d60"
  },
  {
   "metadata": {},
   "cell_type": "markdown",
   "source": "The data is cached in the object to avoid repeated downloads. The cache can be cleared with the `clear_cache` method.",
   "id": "231944b35c1ef409"
  },
  {
   "metadata": {
    "ExecuteTime": {
     "end_time": "2024-11-06T16:30:49.932861Z",
     "start_time": "2024-11-06T16:30:49.922230Z"
    }
   },
   "cell_type": "code",
   "source": "ghed.clear_cache()",
   "id": "82ead8f33e0af6b",
   "outputs": [
    {
     "name": "stderr",
     "output_type": "stream",
     "text": [
      "INFO: Cache cleared\n"
     ]
    }
   ],
   "execution_count": 5
  },
  {
   "metadata": {},
   "cell_type": "code",
   "outputs": [],
   "execution_count": null,
   "source": "",
   "id": "c531a06f497fd45e"
  }
 ],
 "metadata": {
  "kernelspec": {
   "display_name": "Python 3",
   "language": "python",
   "name": "python3"
  },
  "language_info": {
   "codemirror_mode": {
    "name": "ipython",
    "version": 2
   },
   "file_extension": ".py",
   "mimetype": "text/x-python",
   "name": "python",
   "nbconvert_exporter": "python",
   "pygments_lexer": "ipython2",
   "version": "2.7.6"
  }
 },
 "nbformat": 4,
 "nbformat_minor": 5
}
