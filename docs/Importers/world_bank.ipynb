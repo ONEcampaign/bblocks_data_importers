{
 "cells": [
  {
   "metadata": {},
   "cell_type": "markdown",
   "source": [
    "# World Bank importer\n",
    "The `WorldBank` importer is used to import data from the World Bank databases. It is a\n",
    "wrapper on the excellent `wbgapi` package. It provides additional convenience methods\n",
    "and ensures that the data is returned in a consistent format across all importers.\n",
    "\n",
    "## Basic usage\n"
   ],
   "id": "f3b76f45d5cbafae"
  },
  {
   "metadata": {
    "ExecuteTime": {
     "end_time": "2024-12-03T10:42:42.886783Z",
     "start_time": "2024-12-03T10:42:42.874677Z"
    }
   },
   "cell_type": "code",
   "source": [
    "# Import data_importers.\n",
    "from bblocks import data_importers as bbdata\n",
    "\n",
    "# Note that the WorldBank importer can also be imported directly as\n",
    "# from data_importers import WorldBank"
   ],
   "id": "715e269a27113d3f",
   "outputs": [],
   "execution_count": 27
  },
  {
   "metadata": {
    "ExecuteTime": {
     "end_time": "2024-12-03T10:42:42.906832Z",
     "start_time": "2024-12-03T10:42:42.894970Z"
    }
   },
   "cell_type": "code",
   "source": [
    "# Initialize the WorldBank importer.\n",
    "wb = bbdata.WorldBank()"
   ],
   "id": "9dcb7a6cdd1745c0",
   "outputs": [],
   "execution_count": 28
  },
  {
   "metadata": {},
   "cell_type": "markdown",
   "source": "You can use the importer to download all the data for a particular indicator. For example, for GDP data.\n",
   "id": "d56defe0a6efd22f"
  },
  {
   "metadata": {
    "ExecuteTime": {
     "end_time": "2024-12-03T10:42:53.420847Z",
     "start_time": "2024-12-03T10:42:42.933201Z"
    }
   },
   "cell_type": "code",
   "source": [
    "# Download GDP data.\n",
    "gdp = wb.get_data('NY.GDP.MKTP.CD')\n",
    "gdp.sample(10)"
   ],
   "id": "d11ef16d98456314",
   "outputs": [
    {
     "name": "stderr",
     "output_type": "stream",
     "text": [
      "INFO: Fetching World Bank data for series: ['NY.GDP.MKTP.CD']\n",
      "INFO: Data successfully fetched from World Bank API\n"
     ]
    },
    {
     "data": {
      "text/plain": [
       "       year entity_code                                    entity_name  \\\n",
       "13301  1995         ECA  Europe & Central Asia (excluding high income)   \n",
       "9036   1990         COL                                       Colombia   \n",
       "2875   2004         QAT                                          Qatar   \n",
       "10261  2012         BEL                                        Belgium   \n",
       "7022   1971         GNB                                  Guinea-Bissau   \n",
       "9448   1996         CMR                                       Cameroon   \n",
       "8171   2012         SLV                                    El Salvador   \n",
       "8547   1967         DNK                                        Denmark   \n",
       "1301   1967         TZA                                       Tanzania   \n",
       "13375  2022         EMU                                      Euro area   \n",
       "\n",
       "       indicator_code                  value  \n",
       "13301  NY.GDP.MKTP.CD    306497135631.632019  \n",
       "9036   NY.GDP.MKTP.CD     47844090709.990799  \n",
       "2875   NY.GDP.MKTP.CD     31734065934.065899  \n",
       "10261  NY.GDP.MKTP.CD     496152879924.72699  \n",
       "7022   NY.GDP.MKTP.CD       204167297.397787  \n",
       "9448   NY.GDP.MKTP.CD     11093538846.448299  \n",
       "8171   NY.GDP.MKTP.CD          21386150000.0  \n",
       "8547   NY.GDP.MKTP.CD       13059064374.6287  \n",
       "1301   NY.GDP.MKTP.CD       4565132047.47307  \n",
       "13375  NY.GDP.MKTP.CD  14224347000135.599609  "
      ],
      "text/html": [
       "<div>\n",
       "<style scoped>\n",
       "    .dataframe tbody tr th:only-of-type {\n",
       "        vertical-align: middle;\n",
       "    }\n",
       "\n",
       "    .dataframe tbody tr th {\n",
       "        vertical-align: top;\n",
       "    }\n",
       "\n",
       "    .dataframe thead th {\n",
       "        text-align: right;\n",
       "    }\n",
       "</style>\n",
       "<table border=\"1\" class=\"dataframe\">\n",
       "  <thead>\n",
       "    <tr style=\"text-align: right;\">\n",
       "      <th></th>\n",
       "      <th>year</th>\n",
       "      <th>entity_code</th>\n",
       "      <th>entity_name</th>\n",
       "      <th>indicator_code</th>\n",
       "      <th>value</th>\n",
       "    </tr>\n",
       "  </thead>\n",
       "  <tbody>\n",
       "    <tr>\n",
       "      <th>13301</th>\n",
       "      <td>1995</td>\n",
       "      <td>ECA</td>\n",
       "      <td>Europe &amp; Central Asia (excluding high income)</td>\n",
       "      <td>NY.GDP.MKTP.CD</td>\n",
       "      <td>306497135631.632019</td>\n",
       "    </tr>\n",
       "    <tr>\n",
       "      <th>9036</th>\n",
       "      <td>1990</td>\n",
       "      <td>COL</td>\n",
       "      <td>Colombia</td>\n",
       "      <td>NY.GDP.MKTP.CD</td>\n",
       "      <td>47844090709.990799</td>\n",
       "    </tr>\n",
       "    <tr>\n",
       "      <th>2875</th>\n",
       "      <td>2004</td>\n",
       "      <td>QAT</td>\n",
       "      <td>Qatar</td>\n",
       "      <td>NY.GDP.MKTP.CD</td>\n",
       "      <td>31734065934.065899</td>\n",
       "    </tr>\n",
       "    <tr>\n",
       "      <th>10261</th>\n",
       "      <td>2012</td>\n",
       "      <td>BEL</td>\n",
       "      <td>Belgium</td>\n",
       "      <td>NY.GDP.MKTP.CD</td>\n",
       "      <td>496152879924.72699</td>\n",
       "    </tr>\n",
       "    <tr>\n",
       "      <th>7022</th>\n",
       "      <td>1971</td>\n",
       "      <td>GNB</td>\n",
       "      <td>Guinea-Bissau</td>\n",
       "      <td>NY.GDP.MKTP.CD</td>\n",
       "      <td>204167297.397787</td>\n",
       "    </tr>\n",
       "    <tr>\n",
       "      <th>9448</th>\n",
       "      <td>1996</td>\n",
       "      <td>CMR</td>\n",
       "      <td>Cameroon</td>\n",
       "      <td>NY.GDP.MKTP.CD</td>\n",
       "      <td>11093538846.448299</td>\n",
       "    </tr>\n",
       "    <tr>\n",
       "      <th>8171</th>\n",
       "      <td>2012</td>\n",
       "      <td>SLV</td>\n",
       "      <td>El Salvador</td>\n",
       "      <td>NY.GDP.MKTP.CD</td>\n",
       "      <td>21386150000.0</td>\n",
       "    </tr>\n",
       "    <tr>\n",
       "      <th>8547</th>\n",
       "      <td>1967</td>\n",
       "      <td>DNK</td>\n",
       "      <td>Denmark</td>\n",
       "      <td>NY.GDP.MKTP.CD</td>\n",
       "      <td>13059064374.6287</td>\n",
       "    </tr>\n",
       "    <tr>\n",
       "      <th>1301</th>\n",
       "      <td>1967</td>\n",
       "      <td>TZA</td>\n",
       "      <td>Tanzania</td>\n",
       "      <td>NY.GDP.MKTP.CD</td>\n",
       "      <td>4565132047.47307</td>\n",
       "    </tr>\n",
       "    <tr>\n",
       "      <th>13375</th>\n",
       "      <td>2022</td>\n",
       "      <td>EMU</td>\n",
       "      <td>Euro area</td>\n",
       "      <td>NY.GDP.MKTP.CD</td>\n",
       "      <td>14224347000135.599609</td>\n",
       "    </tr>\n",
       "  </tbody>\n",
       "</table>\n",
       "</div>"
      ]
     },
     "execution_count": 29,
     "metadata": {},
     "output_type": "execute_result"
    }
   ],
   "execution_count": 29
  },
  {
   "metadata": {},
   "cell_type": "markdown",
   "source": "You can of course get multiple indicators at once. For example, GDP and GDP per capita.",
   "id": "54c60d466db3309c"
  },
  {
   "metadata": {
    "ExecuteTime": {
     "end_time": "2024-12-03T10:43:38.398406Z",
     "start_time": "2024-12-03T10:42:53.431177Z"
    }
   },
   "cell_type": "code",
   "source": [
    "df = wb.get_data(['NY.GDP.MKTP.CD', 'NY.GDP.PCAP.CD'])\n",
    "\n",
    "df.sample(10)"
   ],
   "id": "bb97d3d2fe1b0fd3",
   "outputs": [
    {
     "name": "stderr",
     "output_type": "stream",
     "text": [
      "INFO: Cache cleared\n",
      "INFO: Fetching World Bank data for series: ['NY.GDP.MKTP.CD', 'NY.GDP.PCAP.CD']\n",
      "INFO: Data successfully fetched from World Bank API\n"
     ]
    },
    {
     "data": {
      "text/plain": [
       "       year entity_code                                 entity_name  \\\n",
       "11355  2006         SSA  Sub-Saharan Africa (excluding high income)   \n",
       "21496  1997         GMB                                 Gambia, The   \n",
       "5787   1961         KOR                                 Korea, Rep.   \n",
       "8535   1979         DNK                                     Denmark   \n",
       "828    2002         TKM                                Turkmenistan   \n",
       "15332  2011         SYR                        Syrian Arab Republic   \n",
       "4583   1987         MEX                                      Mexico   \n",
       "24087  1973         BMU                                     Bermuda   \n",
       "20795  1985         HND                                    Honduras   \n",
       "4350   2010         MNE                                  Montenegro   \n",
       "\n",
       "       indicator_code                value  \n",
       "11355  NY.GDP.MKTP.CD  975498431473.479004  \n",
       "21496  NY.GDP.PCAP.CD            610.19903  \n",
       "5787   NY.GDP.MKTP.CD     2417628736.52655  \n",
       "8535   NY.GDP.MKTP.CD   70366241969.207397  \n",
       "828    NY.GDP.MKTP.CD     4462029108.72349  \n",
       "15332  NY.GDP.PCAP.CD          2971.282434  \n",
       "4583   NY.GDP.MKTP.CD     147542558208.888  \n",
       "24087  NY.GDP.PCAP.CD           5009.29368  \n",
       "20795  NY.GDP.PCAP.CD           1202.93756  \n",
       "4350   NY.GDP.MKTP.CD      4142983843.4912  "
      ],
      "text/html": [
       "<div>\n",
       "<style scoped>\n",
       "    .dataframe tbody tr th:only-of-type {\n",
       "        vertical-align: middle;\n",
       "    }\n",
       "\n",
       "    .dataframe tbody tr th {\n",
       "        vertical-align: top;\n",
       "    }\n",
       "\n",
       "    .dataframe thead th {\n",
       "        text-align: right;\n",
       "    }\n",
       "</style>\n",
       "<table border=\"1\" class=\"dataframe\">\n",
       "  <thead>\n",
       "    <tr style=\"text-align: right;\">\n",
       "      <th></th>\n",
       "      <th>year</th>\n",
       "      <th>entity_code</th>\n",
       "      <th>entity_name</th>\n",
       "      <th>indicator_code</th>\n",
       "      <th>value</th>\n",
       "    </tr>\n",
       "  </thead>\n",
       "  <tbody>\n",
       "    <tr>\n",
       "      <th>11355</th>\n",
       "      <td>2006</td>\n",
       "      <td>SSA</td>\n",
       "      <td>Sub-Saharan Africa (excluding high income)</td>\n",
       "      <td>NY.GDP.MKTP.CD</td>\n",
       "      <td>975498431473.479004</td>\n",
       "    </tr>\n",
       "    <tr>\n",
       "      <th>21496</th>\n",
       "      <td>1997</td>\n",
       "      <td>GMB</td>\n",
       "      <td>Gambia, The</td>\n",
       "      <td>NY.GDP.PCAP.CD</td>\n",
       "      <td>610.19903</td>\n",
       "    </tr>\n",
       "    <tr>\n",
       "      <th>5787</th>\n",
       "      <td>1961</td>\n",
       "      <td>KOR</td>\n",
       "      <td>Korea, Rep.</td>\n",
       "      <td>NY.GDP.MKTP.CD</td>\n",
       "      <td>2417628736.52655</td>\n",
       "    </tr>\n",
       "    <tr>\n",
       "      <th>8535</th>\n",
       "      <td>1979</td>\n",
       "      <td>DNK</td>\n",
       "      <td>Denmark</td>\n",
       "      <td>NY.GDP.MKTP.CD</td>\n",
       "      <td>70366241969.207397</td>\n",
       "    </tr>\n",
       "    <tr>\n",
       "      <th>828</th>\n",
       "      <td>2002</td>\n",
       "      <td>TKM</td>\n",
       "      <td>Turkmenistan</td>\n",
       "      <td>NY.GDP.MKTP.CD</td>\n",
       "      <td>4462029108.72349</td>\n",
       "    </tr>\n",
       "    <tr>\n",
       "      <th>15332</th>\n",
       "      <td>2011</td>\n",
       "      <td>SYR</td>\n",
       "      <td>Syrian Arab Republic</td>\n",
       "      <td>NY.GDP.PCAP.CD</td>\n",
       "      <td>2971.282434</td>\n",
       "    </tr>\n",
       "    <tr>\n",
       "      <th>4583</th>\n",
       "      <td>1987</td>\n",
       "      <td>MEX</td>\n",
       "      <td>Mexico</td>\n",
       "      <td>NY.GDP.MKTP.CD</td>\n",
       "      <td>147542558208.888</td>\n",
       "    </tr>\n",
       "    <tr>\n",
       "      <th>24087</th>\n",
       "      <td>1973</td>\n",
       "      <td>BMU</td>\n",
       "      <td>Bermuda</td>\n",
       "      <td>NY.GDP.PCAP.CD</td>\n",
       "      <td>5009.29368</td>\n",
       "    </tr>\n",
       "    <tr>\n",
       "      <th>20795</th>\n",
       "      <td>1985</td>\n",
       "      <td>HND</td>\n",
       "      <td>Honduras</td>\n",
       "      <td>NY.GDP.PCAP.CD</td>\n",
       "      <td>1202.93756</td>\n",
       "    </tr>\n",
       "    <tr>\n",
       "      <th>4350</th>\n",
       "      <td>2010</td>\n",
       "      <td>MNE</td>\n",
       "      <td>Montenegro</td>\n",
       "      <td>NY.GDP.MKTP.CD</td>\n",
       "      <td>4142983843.4912</td>\n",
       "    </tr>\n",
       "  </tbody>\n",
       "</table>\n",
       "</div>"
      ]
     },
     "execution_count": 30,
     "metadata": {},
     "output_type": "execute_result"
    }
   ],
   "execution_count": 30
  },
  {
   "metadata": {},
   "cell_type": "markdown",
   "source": "The importer provides very convenient ways to filter the data before download it. For example, you can filter for specific countries and years.",
   "id": "7627684d158f16ac"
  },
  {
   "metadata": {
    "ExecuteTime": {
     "end_time": "2024-12-03T10:43:39.005503Z",
     "start_time": "2024-12-03T10:43:38.407741Z"
    }
   },
   "cell_type": "code",
   "source": [
    "# Instantiate a new object which will have the filters applied\n",
    "wb_filtered = bbdata.WorldBank()\n",
    "# Set the countries to get (Guatemala and Togo).\n",
    "wb_filtered.set_economies([\"GTM\", \"TGO\"])\n",
    "\n",
    "# Set the years to get to 2022 and 2023\n",
    "wb_filtered.set_years([2022, 2023])\n",
    "\n",
    "# Download GDP data.\n",
    "gdp_filtered = wb_filtered.get_data('NY.GDP.MKTP.CD')\n",
    "\n",
    "gdp_filtered"
   ],
   "id": "4b3eee7907a34904",
   "outputs": [
    {
     "name": "stderr",
     "output_type": "stream",
     "text": [
      "INFO: Fetching World Bank data for series: ['NY.GDP.MKTP.CD']\n",
      "INFO: Data successfully fetched from World Bank API\n"
     ]
    },
    {
     "data": {
      "text/plain": [
       "   year entity_code entity_name  indicator_code                value\n",
       "0  2023         TGO        Togo  NY.GDP.MKTP.CD    9171261835.062639\n",
       "1  2022         TGO        Togo  NY.GDP.MKTP.CD     8169476148.95692\n",
       "2  2023         GTM   Guatemala  NY.GDP.MKTP.CD  102050473863.636002\n",
       "3  2022         GTM   Guatemala  NY.GDP.MKTP.CD   95003330315.875397"
      ],
      "text/html": [
       "<div>\n",
       "<style scoped>\n",
       "    .dataframe tbody tr th:only-of-type {\n",
       "        vertical-align: middle;\n",
       "    }\n",
       "\n",
       "    .dataframe tbody tr th {\n",
       "        vertical-align: top;\n",
       "    }\n",
       "\n",
       "    .dataframe thead th {\n",
       "        text-align: right;\n",
       "    }\n",
       "</style>\n",
       "<table border=\"1\" class=\"dataframe\">\n",
       "  <thead>\n",
       "    <tr style=\"text-align: right;\">\n",
       "      <th></th>\n",
       "      <th>year</th>\n",
       "      <th>entity_code</th>\n",
       "      <th>entity_name</th>\n",
       "      <th>indicator_code</th>\n",
       "      <th>value</th>\n",
       "    </tr>\n",
       "  </thead>\n",
       "  <tbody>\n",
       "    <tr>\n",
       "      <th>0</th>\n",
       "      <td>2023</td>\n",
       "      <td>TGO</td>\n",
       "      <td>Togo</td>\n",
       "      <td>NY.GDP.MKTP.CD</td>\n",
       "      <td>9171261835.062639</td>\n",
       "    </tr>\n",
       "    <tr>\n",
       "      <th>1</th>\n",
       "      <td>2022</td>\n",
       "      <td>TGO</td>\n",
       "      <td>Togo</td>\n",
       "      <td>NY.GDP.MKTP.CD</td>\n",
       "      <td>8169476148.95692</td>\n",
       "    </tr>\n",
       "    <tr>\n",
       "      <th>2</th>\n",
       "      <td>2023</td>\n",
       "      <td>GTM</td>\n",
       "      <td>Guatemala</td>\n",
       "      <td>NY.GDP.MKTP.CD</td>\n",
       "      <td>102050473863.636002</td>\n",
       "    </tr>\n",
       "    <tr>\n",
       "      <th>3</th>\n",
       "      <td>2022</td>\n",
       "      <td>GTM</td>\n",
       "      <td>Guatemala</td>\n",
       "      <td>NY.GDP.MKTP.CD</td>\n",
       "      <td>95003330315.875397</td>\n",
       "    </tr>\n",
       "  </tbody>\n",
       "</table>\n",
       "</div>"
      ]
     },
     "execution_count": 31,
     "metadata": {},
     "output_type": "execute_result"
    }
   ],
   "execution_count": 31
  },
  {
   "metadata": {},
   "cell_type": "markdown",
   "source": "In every case, economies and years can be passed directly to the `get_data` method. That would override any filters set globally.",
   "id": "2530f321654343d0"
  },
  {
   "metadata": {
    "ExecuteTime": {
     "end_time": "2024-12-03T10:43:39.635151Z",
     "start_time": "2024-12-03T10:43:39.008190Z"
    }
   },
   "cell_type": "code",
   "source": [
    "# Download GDP data with (different) filters passed directly to the method.\n",
    "gdp_filtered_fra_nga = wb_filtered.get_data('NY.GDP.MKTP.CD', economies=[\"FRA\", \"NGA\"], years=[2020, 2021])\n",
    "\n",
    "gdp_filtered_fra_nga"
   ],
   "id": "5f593ebb66d45c35",
   "outputs": [
    {
     "name": "stderr",
     "output_type": "stream",
     "text": [
      "INFO: Cache cleared\n",
      "INFO: Fetching World Bank data for series: ['NY.GDP.MKTP.CD']\n",
      "INFO: Data successfully fetched from World Bank API\n"
     ]
    },
    {
     "data": {
      "text/plain": [
       "   year entity_code entity_name  indicator_code                 value\n",
       "0  2021         NGA     Nigeria  NY.GDP.MKTP.CD   440838992188.478027\n",
       "1  2020         NGA     Nigeria  NY.GDP.MKTP.CD   432198898467.794983\n",
       "2  2021         FRA      France  NY.GDP.MKTP.CD       2959355819170.5\n",
       "3  2020         FRA      France  NY.GDP.MKTP.CD  2647418691598.450195"
      ],
      "text/html": [
       "<div>\n",
       "<style scoped>\n",
       "    .dataframe tbody tr th:only-of-type {\n",
       "        vertical-align: middle;\n",
       "    }\n",
       "\n",
       "    .dataframe tbody tr th {\n",
       "        vertical-align: top;\n",
       "    }\n",
       "\n",
       "    .dataframe thead th {\n",
       "        text-align: right;\n",
       "    }\n",
       "</style>\n",
       "<table border=\"1\" class=\"dataframe\">\n",
       "  <thead>\n",
       "    <tr style=\"text-align: right;\">\n",
       "      <th></th>\n",
       "      <th>year</th>\n",
       "      <th>entity_code</th>\n",
       "      <th>entity_name</th>\n",
       "      <th>indicator_code</th>\n",
       "      <th>value</th>\n",
       "    </tr>\n",
       "  </thead>\n",
       "  <tbody>\n",
       "    <tr>\n",
       "      <th>0</th>\n",
       "      <td>2021</td>\n",
       "      <td>NGA</td>\n",
       "      <td>Nigeria</td>\n",
       "      <td>NY.GDP.MKTP.CD</td>\n",
       "      <td>440838992188.478027</td>\n",
       "    </tr>\n",
       "    <tr>\n",
       "      <th>1</th>\n",
       "      <td>2020</td>\n",
       "      <td>NGA</td>\n",
       "      <td>Nigeria</td>\n",
       "      <td>NY.GDP.MKTP.CD</td>\n",
       "      <td>432198898467.794983</td>\n",
       "    </tr>\n",
       "    <tr>\n",
       "      <th>2</th>\n",
       "      <td>2021</td>\n",
       "      <td>FRA</td>\n",
       "      <td>France</td>\n",
       "      <td>NY.GDP.MKTP.CD</td>\n",
       "      <td>2959355819170.5</td>\n",
       "    </tr>\n",
       "    <tr>\n",
       "      <th>3</th>\n",
       "      <td>2020</td>\n",
       "      <td>FRA</td>\n",
       "      <td>France</td>\n",
       "      <td>NY.GDP.MKTP.CD</td>\n",
       "      <td>2647418691598.450195</td>\n",
       "    </tr>\n",
       "  </tbody>\n",
       "</table>\n",
       "</div>"
      ]
     },
     "execution_count": 32,
     "metadata": {},
     "output_type": "execute_result"
    }
   ],
   "execution_count": 32
  },
  {
   "metadata": {},
   "cell_type": "markdown",
   "source": "The importer also makes it possible to download the most recent value for a particular indicator (as always for one or more countries). For example, for the GDP indicator.",
   "id": "7746ad84e9f1b243"
  },
  {
   "metadata": {
    "ExecuteTime": {
     "end_time": "2024-12-03T10:43:40.515974Z",
     "start_time": "2024-12-03T10:43:39.637607Z"
    }
   },
   "cell_type": "code",
   "source": [
    "# Create a new object which downloads the most recent data\n",
    "wb_most_recent = bbdata.WorldBank()\n",
    "\n",
    "# Set to get the 1 most recent value. This number can be a larger integer if needed.\n",
    "wb_most_recent.set_most_recent_values_to_get(1)\n",
    "\n",
    "# You can also get the most recent-non empty value by using the following method\n",
    "# wb_most_recent.set_most_recent_non_empty_value(1)\n",
    "\n",
    "# Download GDP data.\n",
    "gdp_most_recent = wb_most_recent.get_data('NY.GDP.MKTP.CD')\n",
    "\n",
    "gdp_most_recent.head(10)\n"
   ],
   "id": "80da998706f979e",
   "outputs": [
    {
     "name": "stderr",
     "output_type": "stream",
     "text": [
      "INFO: Fetching World Bank data for series: ['NY.GDP.MKTP.CD']\n",
      "INFO: Data successfully fetched from World Bank API\n"
     ]
    },
    {
     "data": {
      "text/plain": [
       "   year entity_code           entity_name  indicator_code  \\\n",
       "0  2023         ZWE              Zimbabwe  NY.GDP.MKTP.CD   \n",
       "1  2023         ZMB                Zambia  NY.GDP.MKTP.CD   \n",
       "2  2023         PSE    West Bank and Gaza  NY.GDP.MKTP.CD   \n",
       "3  2023         VNM              Viet Nam  NY.GDP.MKTP.CD   \n",
       "4  2023         VUT               Vanuatu  NY.GDP.MKTP.CD   \n",
       "5  2023         UZB            Uzbekistan  NY.GDP.MKTP.CD   \n",
       "6  2023         URY               Uruguay  NY.GDP.MKTP.CD   \n",
       "7  2023         USA         United States  NY.GDP.MKTP.CD   \n",
       "8  2023         GBR        United Kingdom  NY.GDP.MKTP.CD   \n",
       "9  2023         ARE  United Arab Emirates  NY.GDP.MKTP.CD   \n",
       "\n",
       "                  value  \n",
       "0      26538273498.8461  \n",
       "1    28162630953.928501  \n",
       "2         17396300000.0  \n",
       "3   429716969049.593018  \n",
       "4      1126313359.21923  \n",
       "5    90889149306.731293  \n",
       "6    77240831587.167007  \n",
       "7      27360935000000.0  \n",
       "8  3340032380668.040039  \n",
       "9   504173451327.434021  "
      ],
      "text/html": [
       "<div>\n",
       "<style scoped>\n",
       "    .dataframe tbody tr th:only-of-type {\n",
       "        vertical-align: middle;\n",
       "    }\n",
       "\n",
       "    .dataframe tbody tr th {\n",
       "        vertical-align: top;\n",
       "    }\n",
       "\n",
       "    .dataframe thead th {\n",
       "        text-align: right;\n",
       "    }\n",
       "</style>\n",
       "<table border=\"1\" class=\"dataframe\">\n",
       "  <thead>\n",
       "    <tr style=\"text-align: right;\">\n",
       "      <th></th>\n",
       "      <th>year</th>\n",
       "      <th>entity_code</th>\n",
       "      <th>entity_name</th>\n",
       "      <th>indicator_code</th>\n",
       "      <th>value</th>\n",
       "    </tr>\n",
       "  </thead>\n",
       "  <tbody>\n",
       "    <tr>\n",
       "      <th>0</th>\n",
       "      <td>2023</td>\n",
       "      <td>ZWE</td>\n",
       "      <td>Zimbabwe</td>\n",
       "      <td>NY.GDP.MKTP.CD</td>\n",
       "      <td>26538273498.8461</td>\n",
       "    </tr>\n",
       "    <tr>\n",
       "      <th>1</th>\n",
       "      <td>2023</td>\n",
       "      <td>ZMB</td>\n",
       "      <td>Zambia</td>\n",
       "      <td>NY.GDP.MKTP.CD</td>\n",
       "      <td>28162630953.928501</td>\n",
       "    </tr>\n",
       "    <tr>\n",
       "      <th>2</th>\n",
       "      <td>2023</td>\n",
       "      <td>PSE</td>\n",
       "      <td>West Bank and Gaza</td>\n",
       "      <td>NY.GDP.MKTP.CD</td>\n",
       "      <td>17396300000.0</td>\n",
       "    </tr>\n",
       "    <tr>\n",
       "      <th>3</th>\n",
       "      <td>2023</td>\n",
       "      <td>VNM</td>\n",
       "      <td>Viet Nam</td>\n",
       "      <td>NY.GDP.MKTP.CD</td>\n",
       "      <td>429716969049.593018</td>\n",
       "    </tr>\n",
       "    <tr>\n",
       "      <th>4</th>\n",
       "      <td>2023</td>\n",
       "      <td>VUT</td>\n",
       "      <td>Vanuatu</td>\n",
       "      <td>NY.GDP.MKTP.CD</td>\n",
       "      <td>1126313359.21923</td>\n",
       "    </tr>\n",
       "    <tr>\n",
       "      <th>5</th>\n",
       "      <td>2023</td>\n",
       "      <td>UZB</td>\n",
       "      <td>Uzbekistan</td>\n",
       "      <td>NY.GDP.MKTP.CD</td>\n",
       "      <td>90889149306.731293</td>\n",
       "    </tr>\n",
       "    <tr>\n",
       "      <th>6</th>\n",
       "      <td>2023</td>\n",
       "      <td>URY</td>\n",
       "      <td>Uruguay</td>\n",
       "      <td>NY.GDP.MKTP.CD</td>\n",
       "      <td>77240831587.167007</td>\n",
       "    </tr>\n",
       "    <tr>\n",
       "      <th>7</th>\n",
       "      <td>2023</td>\n",
       "      <td>USA</td>\n",
       "      <td>United States</td>\n",
       "      <td>NY.GDP.MKTP.CD</td>\n",
       "      <td>27360935000000.0</td>\n",
       "    </tr>\n",
       "    <tr>\n",
       "      <th>8</th>\n",
       "      <td>2023</td>\n",
       "      <td>GBR</td>\n",
       "      <td>United Kingdom</td>\n",
       "      <td>NY.GDP.MKTP.CD</td>\n",
       "      <td>3340032380668.040039</td>\n",
       "    </tr>\n",
       "    <tr>\n",
       "      <th>9</th>\n",
       "      <td>2023</td>\n",
       "      <td>ARE</td>\n",
       "      <td>United Arab Emirates</td>\n",
       "      <td>NY.GDP.MKTP.CD</td>\n",
       "      <td>504173451327.434021</td>\n",
       "    </tr>\n",
       "  </tbody>\n",
       "</table>\n",
       "</div>"
      ]
     },
     "execution_count": 33,
     "metadata": {},
     "output_type": "execute_result"
    }
   ],
   "execution_count": 33
  },
  {
   "metadata": {},
   "cell_type": "markdown",
   "source": [
    "## Additional tools\n",
    "\n",
    "The importer has several other convience methods.\n",
    "\n",
    "For example, you can get a dictionary of countries by income level."
   ],
   "id": "ffd50191eab378a8"
  },
  {
   "metadata": {
    "ExecuteTime": {
     "end_time": "2024-12-03T10:43:44.362857Z",
     "start_time": "2024-12-03T10:43:40.518799Z"
    }
   },
   "cell_type": "code",
   "source": [
    "countries_by_income = wb.get_countries_by_income_level()\n",
    "\n",
    "# For it to be visible here, we will print the keys only\n",
    "print(\"Keys:\\n\",countries_by_income.keys())\n",
    "\n",
    "# each dictionary contains country codes\n",
    "print(\"High income\\n\",countries_by_income['High income'])"
   ],
   "id": "be0c465c5e12694a",
   "outputs": [
    {
     "name": "stdout",
     "output_type": "stream",
     "text": [
      "Keys:\n",
      " dict_keys(['High income', 'Not classified', 'Low income', 'Lower middle income', 'Low & middle income', 'Middle income', 'Upper middle income'])\n",
      "High income\n",
      " {'LIE', 'VGB', 'AUS', 'KNA', 'LUX', 'GUM', 'PLW', 'FIN', 'ASM', 'OMN', 'DNK', 'SVN', 'MLT', 'HRV', 'ESP', 'ATG', 'PAN', 'QAT', 'SWE', 'CHL', 'NLD', 'CHE', 'POL', 'JPN', 'AND', 'IMN', 'CZE', 'ABW', 'GBR', 'NRU', 'MCO', 'NOR', 'ARE', 'HKG', 'SGP', 'PRT', 'BGR', 'CAN', 'BRN', 'URY', 'BHS', 'SYC', 'PRI', 'HUN', 'FRO', 'AUT', 'SAU', 'NZL', 'ISL', 'LVA', 'GUY', 'GRL', 'BMU', 'KOR', 'RUS', 'TCA', 'GRC', 'SXM', 'SVK', 'IRL', 'MAF', 'BRB', 'NCL', 'FRA', 'BHR', 'ISR', 'BEL', 'CUW', 'CYP', 'ITA', 'CYM', 'USA', 'EST', 'PYF', 'TTO', 'DEU', 'SMR', 'LTU', 'KWT', 'ROU', 'GIB', 'VIR', 'MNP', 'CHI', 'MAC'}\n"
     ]
    }
   ],
   "execution_count": 34
  },
  {
   "metadata": {},
   "cell_type": "markdown",
   "source": "Or you can get countries by lending type:",
   "id": "3641d49c05f883ae"
  },
  {
   "metadata": {},
   "cell_type": "markdown",
   "source": "",
   "id": "ff2e434d773c30da"
  },
  {
   "metadata": {
    "ExecuteTime": {
     "end_time": "2024-12-03T10:43:47.436132Z",
     "start_time": "2024-12-03T10:43:44.366892Z"
    }
   },
   "cell_type": "code",
   "source": [
    "countries_by_lending = wb.get_countries_by_lending_type()\n",
    "\n",
    "# For it to be visible here, we will print the keys only\n",
    "print(\"Keys:\\n\",countries_by_lending.keys())\n",
    "\n",
    "# Each dictionary contains country codes\n",
    "print(\"IDA\\n\",countries_by_lending['IDA'])"
   ],
   "id": "db6be511f8864edb",
   "outputs": [
    {
     "name": "stdout",
     "output_type": "stream",
     "text": [
      "Keys:\n",
      " dict_keys(['IBRD', 'Blend', 'IDA', 'Not classified'])\n",
      "IDA\n",
      " {'HTI', 'TGO', 'GIN', 'LSO', 'BTN', 'FSM', 'MDV', 'SLE', 'SSD', 'TON', 'AFG', 'COM', 'SDN', 'MDG', 'GUY', 'KHM', 'TCD', 'DJI', 'KGZ', 'NIC', 'SEN', 'STP', 'MHL', 'LBR', 'ZMB', 'SOM', 'YEM', 'BDI', 'ERI', 'RWA', 'GMB', 'TJK', 'GNB', 'VUT', 'MLI', 'NER', 'XKX', 'SLB', 'LKA', 'BFA', 'MWI', 'CAF', 'SYR', 'MRT', 'CIV', 'TUV', 'HND', 'TZA', 'BGD', 'GHA', 'KIR', 'COD', 'LAO', 'MMR', 'ETH', 'NPL', 'WSM', 'UGA', 'MOZ', 'BEN'}\n"
     ]
    }
   ],
   "execution_count": 35
  },
  {
   "metadata": {},
   "cell_type": "markdown",
   "source": "You can also get countries by region:",
   "id": "89c96c01c8e63044"
  },
  {
   "metadata": {
    "ExecuteTime": {
     "end_time": "2024-12-03T10:44:28.117921Z",
     "start_time": "2024-12-03T10:43:47.441845Z"
    }
   },
   "cell_type": "code",
   "source": [
    "countries_by_region = wb.get_countries_by_region()\n",
    "\n",
    "# For it to be visible here, we will print the keys only\n",
    "print(\"Keys:\\n\",countries_by_region.keys())\n",
    "\n",
    "# Each dictionary contains country codes\n",
    "print(\"Africa\\n\",countries_by_region['Africa'])"
   ],
   "id": "38348442fde40b82",
   "outputs": [
    {
     "name": "stderr",
     "output_type": "stream",
     "text": [
      "INFO: Fetching countries by region. There are over 40 regions, so this may take a while.\n"
     ]
    },
    {
     "name": "stdout",
     "output_type": "stream",
     "text": [
      "Keys:\n",
      " dict_keys(['Africa Eastern and Southern', 'Africa', 'Africa Western and Central', 'Arab World', 'Sub-Saharan Africa (IFC classification)', 'East Asia and the Pacific (IFC classification)', 'Central Europe and the Baltics', 'Europe and Central Asia (IFC classification)', 'Latin America and the Caribbean (IFC classification)', 'Middle East and North Africa (IFC classification)', 'South Asia (IFC classification)', 'Caribbean small states', 'East Asia & Pacific (excluding high income)', 'Early-demographic dividend', 'East Asia & Pacific', 'Europe & Central Asia (excluding high income)', 'Europe & Central Asia', 'Euro area', 'European Union', 'Fragile and conflict affected situations', 'Heavily indebted poor countries (HIPC)', 'Latin America & Caribbean (excluding high income)', 'Latin America & Caribbean ', 'Least developed countries: UN classification', 'Late-demographic dividend', 'Middle East (developing only)', 'Middle East & North Africa', 'Middle East & North Africa (excluding high income)', 'North America', 'North Africa', 'Non-resource rich Sub-Saharan Africa countries', 'OECD members', 'Other small states', 'Pre-demographic dividend', 'Pacific island small states', 'Post-demographic dividend', 'Resource rich Sub-Saharan Africa countries', 'South Asia', 'Sub-Saharan Africa (excluding high income)', 'Sub-Saharan Africa ', 'Small states', 'Sub-Saharan Africa excluding South Africa', 'World', 'Sub-Saharan Africa excluding South Africa and Nigeria'])\n",
      "Africa\n",
      " {'TGO', 'EGY', 'NAM', 'GIN', 'LSO', 'GAB', 'SLE', 'SSD', 'SWZ', 'COM', 'SDN', 'MDG', 'TCD', 'NGA', 'DJI', 'BWA', 'SEN', 'STP', 'CPV', 'LBR', 'LBY', 'SOM', 'ZMB', 'BDI', 'TUN', 'ERI', 'RWA', 'GMB', 'GNB', 'MLI', 'KEN', 'DZA', 'NER', 'MAR', 'MWI', 'BFA', 'CAF', 'CMR', 'MRT', 'CIV', 'MUS', 'ZWE', 'UGA', 'TZA', 'GHA', 'COD', 'AGO', 'ETH', 'SYC', 'ZAF', 'COG', 'MOZ', 'BEN', 'GNQ'}\n"
     ]
    }
   ],
   "execution_count": 36
  },
  {
   "metadata": {},
   "cell_type": "markdown",
   "source": "Or directly access a list of African countries, for example",
   "id": "7213ad5a3d5fb789"
  },
  {
   "metadata": {
    "ExecuteTime": {
     "end_time": "2024-12-03T10:44:28.319711Z",
     "start_time": "2024-12-03T10:44:28.127507Z"
    }
   },
   "cell_type": "code",
   "source": [
    "african_countries = wb.get_african_countries()\n",
    "\n",
    "african_countries"
   ],
   "id": "144041ec6b0a8c50",
   "outputs": [
    {
     "data": {
      "text/plain": [
       "['TGO',\n",
       " 'EGY',\n",
       " 'NAM',\n",
       " 'GIN',\n",
       " 'LSO',\n",
       " 'GAB',\n",
       " 'SLE',\n",
       " 'SSD',\n",
       " 'SWZ',\n",
       " 'COM',\n",
       " 'SDN',\n",
       " 'MDG',\n",
       " 'TCD',\n",
       " 'NGA',\n",
       " 'DJI',\n",
       " 'BWA',\n",
       " 'SEN',\n",
       " 'STP',\n",
       " 'CPV',\n",
       " 'LBR',\n",
       " 'LBY',\n",
       " 'SOM',\n",
       " 'ZMB',\n",
       " 'BDI',\n",
       " 'TUN',\n",
       " 'ERI',\n",
       " 'RWA',\n",
       " 'GMB',\n",
       " 'GNB',\n",
       " 'MLI',\n",
       " 'KEN',\n",
       " 'DZA',\n",
       " 'NER',\n",
       " 'MAR',\n",
       " 'MWI',\n",
       " 'BFA',\n",
       " 'CAF',\n",
       " 'CMR',\n",
       " 'MRT',\n",
       " 'CIV',\n",
       " 'MUS',\n",
       " 'ZWE',\n",
       " 'UGA',\n",
       " 'TZA',\n",
       " 'GHA',\n",
       " 'COD',\n",
       " 'AGO',\n",
       " 'ETH',\n",
       " 'SYC',\n",
       " 'ZAF',\n",
       " 'COG',\n",
       " 'MOZ',\n",
       " 'BEN',\n",
       " 'GNQ']"
      ]
     },
     "execution_count": 37,
     "metadata": {},
     "output_type": "execute_result"
    }
   ],
   "execution_count": 37
  },
  {
   "metadata": {},
   "cell_type": "markdown",
   "source": "You can also get the metadata of any indicator. For example for GDP.",
   "id": "3739fc74142fee53"
  },
  {
   "metadata": {
    "ExecuteTime": {
     "end_time": "2024-12-03T10:44:28.489853Z",
     "start_time": "2024-12-03T10:44:28.326293Z"
    }
   },
   "cell_type": "code",
   "source": [
    "metadata = wb.get_indicator_metadata('NY.GDP.MKTP.CD')\n",
    "metadata"
   ],
   "id": "7abb485d4670b9a0",
   "outputs": [
    {
     "data": {
      "text/plain": [
       "{'Aggregationmethod': 'Gap-filled total',\n",
       " 'IndicatorName': 'GDP (current US$)',\n",
       " 'License_Type': 'CC BY-4.0',\n",
       " 'License_URL': 'https://datacatalog.worldbank.org/public-licenses#cc-by',\n",
       " 'Limitationsandexceptions': 'Gross domestic product (GDP), though widely tracked, may not always be the most relevant summary of aggregated economic performance for all economies, especially when production occurs at the expense of consuming capital stock.\\n\\nWhile GDP estimates based on the production approach are generally more reliable than estimates compiled from the income or expenditure side, different countries use different definitions, methods, and reporting standards. World Bank staff review the quality of national accounts data and sometimes make adjustments to improve consistency with international guidelines. Nevertheless, significant discrepancies remain between international standards and actual practice. Many statistical offices, especially those in developing countries, face severe limitations in the resources, time, training, and budgets required to produce reliable and comprehensive series of national accounts statistics.\\n\\nAmong the difficulties faced by compilers of national accounts is the extent of unreported economic activity in the informal or secondary economy. In developing countries a large share of agricultural output is either not exchanged (because it is consumed within the household) or not exchanged for money.',\n",
       " 'Longdefinition': \"GDP at purchaser's prices is the sum of gross value added by all resident producers in the economy plus any product taxes and minus any subsidies not included in the value of the products. It is calculated without making deductions for depreciation of fabricated assets or for depletion and degradation of natural resources. Data are in current U.S. dollars. Dollar figures for GDP are converted from domestic currencies using single year official exchange rates. For a few countries where the official exchange rate does not reflect the rate effectively applied to actual foreign exchange transactions, an alternative conversion factor is used.\",\n",
       " 'Periodicity': 'Annual',\n",
       " 'Source': 'World Bank national accounts data, and OECD National Accounts data files.',\n",
       " 'Statisticalconceptandmethodology': 'Gross domestic product (GDP) represents the sum of value added by all its producers. Value added is the value of the gross output of producers less the value of intermediate goods and services consumed in production, before accounting for consumption of fixed capital in production. The United Nations System of National Accounts calls for value added to be valued at either basic prices (excluding net taxes on products) or producer prices (including net taxes on products paid by producers but excluding sales or value added taxes). Both valuations exclude transport charges that are invoiced separately by producers. Total GDP is measured at purchaser prices. Value added by industry is normally measured at basic prices.',\n",
       " 'Topic': 'Economic Policy & Debt: National accounts: US$ at current prices: Aggregate indicators'}"
      ]
     },
     "execution_count": 38,
     "metadata": {},
     "output_type": "execute_result"
    }
   ],
   "execution_count": 38
  },
  {
   "metadata": {},
   "cell_type": "markdown",
   "source": "Or the available metadata for economies:",
   "id": "dba333b4fdf2fedb"
  },
  {
   "metadata": {
    "ExecuteTime": {
     "end_time": "2024-12-03T10:44:28.787873Z",
     "start_time": "2024-12-03T10:44:28.496183Z"
    }
   },
   "cell_type": "code",
   "source": [
    "economies_metadata = wb.get_economies_metadata()\n",
    "economies_metadata.sample(5)"
   ],
   "id": "6b629a2f38b4fdc1",
   "outputs": [
    {
     "data": {
      "text/plain": [
       "                name  aggregate  longitude  latitude                 region  \\\n",
       "id                                                                            \n",
       "SVK  Slovak Republic      False    17.1073   48.1484  Europe & Central Asia   \n",
       "USA    United States      False   -77.0320   38.8895          North America   \n",
       "ARM          Armenia      False    44.5090   40.1596  Europe & Central Asia   \n",
       "MUS        Mauritius      False    57.4977  -20.1605     Sub-Saharan Africa   \n",
       "MNE       Montenegro      False    19.2595   42.4602  Europe & Central Asia   \n",
       "\n",
       "                                       adminregion     lendingType  \\\n",
       "id                                                                   \n",
       "SVK                                           None  Not classified   \n",
       "USA                                           None  Not classified   \n",
       "ARM  Europe & Central Asia (excluding high income)            IBRD   \n",
       "MUS     Sub-Saharan Africa (excluding high income)            IBRD   \n",
       "MNE  Europe & Central Asia (excluding high income)            IBRD   \n",
       "\n",
       "             incomeLevel      capitalCity  \n",
       "id                                         \n",
       "SVK          High income       Bratislava  \n",
       "USA          High income  Washington D.C.  \n",
       "ARM  Upper middle income          Yerevan  \n",
       "MUS  Upper middle income       Port Louis  \n",
       "MNE  Upper middle income        Podgorica  "
      ],
      "text/html": [
       "<div>\n",
       "<style scoped>\n",
       "    .dataframe tbody tr th:only-of-type {\n",
       "        vertical-align: middle;\n",
       "    }\n",
       "\n",
       "    .dataframe tbody tr th {\n",
       "        vertical-align: top;\n",
       "    }\n",
       "\n",
       "    .dataframe thead th {\n",
       "        text-align: right;\n",
       "    }\n",
       "</style>\n",
       "<table border=\"1\" class=\"dataframe\">\n",
       "  <thead>\n",
       "    <tr style=\"text-align: right;\">\n",
       "      <th></th>\n",
       "      <th>name</th>\n",
       "      <th>aggregate</th>\n",
       "      <th>longitude</th>\n",
       "      <th>latitude</th>\n",
       "      <th>region</th>\n",
       "      <th>adminregion</th>\n",
       "      <th>lendingType</th>\n",
       "      <th>incomeLevel</th>\n",
       "      <th>capitalCity</th>\n",
       "    </tr>\n",
       "    <tr>\n",
       "      <th>id</th>\n",
       "      <th></th>\n",
       "      <th></th>\n",
       "      <th></th>\n",
       "      <th></th>\n",
       "      <th></th>\n",
       "      <th></th>\n",
       "      <th></th>\n",
       "      <th></th>\n",
       "      <th></th>\n",
       "    </tr>\n",
       "  </thead>\n",
       "  <tbody>\n",
       "    <tr>\n",
       "      <th>SVK</th>\n",
       "      <td>Slovak Republic</td>\n",
       "      <td>False</td>\n",
       "      <td>17.1073</td>\n",
       "      <td>48.1484</td>\n",
       "      <td>Europe &amp; Central Asia</td>\n",
       "      <td>None</td>\n",
       "      <td>Not classified</td>\n",
       "      <td>High income</td>\n",
       "      <td>Bratislava</td>\n",
       "    </tr>\n",
       "    <tr>\n",
       "      <th>USA</th>\n",
       "      <td>United States</td>\n",
       "      <td>False</td>\n",
       "      <td>-77.0320</td>\n",
       "      <td>38.8895</td>\n",
       "      <td>North America</td>\n",
       "      <td>None</td>\n",
       "      <td>Not classified</td>\n",
       "      <td>High income</td>\n",
       "      <td>Washington D.C.</td>\n",
       "    </tr>\n",
       "    <tr>\n",
       "      <th>ARM</th>\n",
       "      <td>Armenia</td>\n",
       "      <td>False</td>\n",
       "      <td>44.5090</td>\n",
       "      <td>40.1596</td>\n",
       "      <td>Europe &amp; Central Asia</td>\n",
       "      <td>Europe &amp; Central Asia (excluding high income)</td>\n",
       "      <td>IBRD</td>\n",
       "      <td>Upper middle income</td>\n",
       "      <td>Yerevan</td>\n",
       "    </tr>\n",
       "    <tr>\n",
       "      <th>MUS</th>\n",
       "      <td>Mauritius</td>\n",
       "      <td>False</td>\n",
       "      <td>57.4977</td>\n",
       "      <td>-20.1605</td>\n",
       "      <td>Sub-Saharan Africa</td>\n",
       "      <td>Sub-Saharan Africa (excluding high income)</td>\n",
       "      <td>IBRD</td>\n",
       "      <td>Upper middle income</td>\n",
       "      <td>Port Louis</td>\n",
       "    </tr>\n",
       "    <tr>\n",
       "      <th>MNE</th>\n",
       "      <td>Montenegro</td>\n",
       "      <td>False</td>\n",
       "      <td>19.2595</td>\n",
       "      <td>42.4602</td>\n",
       "      <td>Europe &amp; Central Asia</td>\n",
       "      <td>Europe &amp; Central Asia (excluding high income)</td>\n",
       "      <td>IBRD</td>\n",
       "      <td>Upper middle income</td>\n",
       "      <td>Podgorica</td>\n",
       "    </tr>\n",
       "  </tbody>\n",
       "</table>\n",
       "</div>"
      ]
     },
     "execution_count": 39,
     "metadata": {},
     "output_type": "execute_result"
    }
   ],
   "execution_count": 39
  }
 ],
 "metadata": {
  "kernelspec": {
   "display_name": "Python 3",
   "language": "python",
   "name": "python3"
  },
  "language_info": {
   "codemirror_mode": {
    "name": "ipython",
    "version": 2
   },
   "file_extension": ".py",
   "mimetype": "text/x-python",
   "name": "python",
   "nbconvert_exporter": "python",
   "pygments_lexer": "ipython2",
   "version": "2.7.6"
  }
 },
 "nbformat": 4,
 "nbformat_minor": 5
}
