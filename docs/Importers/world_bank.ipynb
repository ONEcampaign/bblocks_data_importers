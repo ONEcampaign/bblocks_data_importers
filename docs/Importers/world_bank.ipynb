{
 "cells": [
  {
   "metadata": {},
   "cell_type": "markdown",
   "source": [
    "# World Bank importer\n",
    "The `WorldBank` importer is used to import data from the World Bank databases. It is a\n",
    "wrapper on the excellent `wbgapi` package. It provides additional convenience methods\n",
    "and ensures that the data is returned in a consistent format across all importers.\n",
    "\n",
    "## Basic usage\n"
   ],
   "id": "f3b76f45d5cbafae"
  },
  {
   "metadata": {
    "ExecuteTime": {
     "end_time": "2024-11-29T14:52:31.412520Z",
     "start_time": "2024-11-29T14:52:30.938924Z"
    }
   },
   "cell_type": "code",
   "source": [
    "# Import bblocks_data_importers.\n",
    "import bblocks_data_importers as bbdata\n",
    "\n",
    "# Note that the WorldBank importer can also be imported directly as\n",
    "# from bblocks_data_importers import WorldBank"
   ],
   "id": "715e269a27113d3f",
   "outputs": [],
   "execution_count": 1
  },
  {
   "metadata": {
    "ExecuteTime": {
     "end_time": "2024-11-29T14:52:31.418514Z",
     "start_time": "2024-11-29T14:52:31.416694Z"
    }
   },
   "cell_type": "code",
   "source": [
    "# Initialize the WorldBank importer.\n",
    "wb = bbdata.WorldBank()"
   ],
   "id": "9dcb7a6cdd1745c0",
   "outputs": [],
   "execution_count": 2
  },
  {
   "metadata": {},
   "cell_type": "markdown",
   "source": "You can use the importer to download all the data for a particular indicator. For example, for GDP data.\n",
   "id": "d56defe0a6efd22f"
  },
  {
   "metadata": {
    "ExecuteTime": {
     "end_time": "2024-11-29T14:52:42.533761Z",
     "start_time": "2024-11-29T14:52:31.542556Z"
    }
   },
   "cell_type": "code",
   "source": [
    "# Download GDP data.\n",
    "gdp = wb.get_data('NY.GDP.MKTP.CD')\n",
    "gdp.sample(10)"
   ],
   "id": "d11ef16d98456314",
   "outputs": [
    {
     "name": "stderr",
     "output_type": "stream",
     "text": [
      "INFO: Fetching World Bank data for series: ['NY.GDP.MKTP.CD']\n",
      "INFO: Data successfully fetched from World Bank API\n"
     ]
    },
    {
     "data": {
      "text/plain": [
       "       year entity_code                entity_name  indicator_code  \\\n",
       "9953   2012         BOL                    Bolivia  NY.GDP.MKTP.CD   \n",
       "11770  1965         PST  Post-demographic dividend  NY.GDP.MKTP.CD   \n",
       "10655  1994         AUT                    Austria  NY.GDP.MKTP.CD   \n",
       "1222   1982         THA                   Thailand  NY.GDP.MKTP.CD   \n",
       "579    2019         ARE       United Arab Emirates  NY.GDP.MKTP.CD   \n",
       "6750   1987         HKG       Hong Kong SAR, China  NY.GDP.MKTP.CD   \n",
       "12907  1969         IBT           IDA & IBRD total  NY.GDP.MKTP.CD   \n",
       "6030   1993         JPN                      Japan  NY.GDP.MKTP.CD   \n",
       "8748   2010         CIV              Cote d'Ivoire  NY.GDP.MKTP.CD   \n",
       "5922   2008         KAZ                 Kazakhstan  NY.GDP.MKTP.CD   \n",
       "\n",
       "                      value  \n",
       "9953     27084497481.910301  \n",
       "11770  1526736672508.040039  \n",
       "10655   203535242741.838013  \n",
       "1222     36589772403.756599  \n",
       "579     417989721742.682007  \n",
       "6750     50622896162.600601  \n",
       "12907   637528711300.968018  \n",
       "6030       4536940479038.25  \n",
       "8748     34936307980.063004  \n",
       "5922    133441648851.981995  "
      ],
      "text/html": [
       "<div>\n",
       "<style scoped>\n",
       "    .dataframe tbody tr th:only-of-type {\n",
       "        vertical-align: middle;\n",
       "    }\n",
       "\n",
       "    .dataframe tbody tr th {\n",
       "        vertical-align: top;\n",
       "    }\n",
       "\n",
       "    .dataframe thead th {\n",
       "        text-align: right;\n",
       "    }\n",
       "</style>\n",
       "<table border=\"1\" class=\"dataframe\">\n",
       "  <thead>\n",
       "    <tr style=\"text-align: right;\">\n",
       "      <th></th>\n",
       "      <th>year</th>\n",
       "      <th>entity_code</th>\n",
       "      <th>entity_name</th>\n",
       "      <th>indicator_code</th>\n",
       "      <th>value</th>\n",
       "    </tr>\n",
       "  </thead>\n",
       "  <tbody>\n",
       "    <tr>\n",
       "      <th>9953</th>\n",
       "      <td>2012</td>\n",
       "      <td>BOL</td>\n",
       "      <td>Bolivia</td>\n",
       "      <td>NY.GDP.MKTP.CD</td>\n",
       "      <td>27084497481.910301</td>\n",
       "    </tr>\n",
       "    <tr>\n",
       "      <th>11770</th>\n",
       "      <td>1965</td>\n",
       "      <td>PST</td>\n",
       "      <td>Post-demographic dividend</td>\n",
       "      <td>NY.GDP.MKTP.CD</td>\n",
       "      <td>1526736672508.040039</td>\n",
       "    </tr>\n",
       "    <tr>\n",
       "      <th>10655</th>\n",
       "      <td>1994</td>\n",
       "      <td>AUT</td>\n",
       "      <td>Austria</td>\n",
       "      <td>NY.GDP.MKTP.CD</td>\n",
       "      <td>203535242741.838013</td>\n",
       "    </tr>\n",
       "    <tr>\n",
       "      <th>1222</th>\n",
       "      <td>1982</td>\n",
       "      <td>THA</td>\n",
       "      <td>Thailand</td>\n",
       "      <td>NY.GDP.MKTP.CD</td>\n",
       "      <td>36589772403.756599</td>\n",
       "    </tr>\n",
       "    <tr>\n",
       "      <th>579</th>\n",
       "      <td>2019</td>\n",
       "      <td>ARE</td>\n",
       "      <td>United Arab Emirates</td>\n",
       "      <td>NY.GDP.MKTP.CD</td>\n",
       "      <td>417989721742.682007</td>\n",
       "    </tr>\n",
       "    <tr>\n",
       "      <th>6750</th>\n",
       "      <td>1987</td>\n",
       "      <td>HKG</td>\n",
       "      <td>Hong Kong SAR, China</td>\n",
       "      <td>NY.GDP.MKTP.CD</td>\n",
       "      <td>50622896162.600601</td>\n",
       "    </tr>\n",
       "    <tr>\n",
       "      <th>12907</th>\n",
       "      <td>1969</td>\n",
       "      <td>IBT</td>\n",
       "      <td>IDA &amp; IBRD total</td>\n",
       "      <td>NY.GDP.MKTP.CD</td>\n",
       "      <td>637528711300.968018</td>\n",
       "    </tr>\n",
       "    <tr>\n",
       "      <th>6030</th>\n",
       "      <td>1993</td>\n",
       "      <td>JPN</td>\n",
       "      <td>Japan</td>\n",
       "      <td>NY.GDP.MKTP.CD</td>\n",
       "      <td>4536940479038.25</td>\n",
       "    </tr>\n",
       "    <tr>\n",
       "      <th>8748</th>\n",
       "      <td>2010</td>\n",
       "      <td>CIV</td>\n",
       "      <td>Cote d'Ivoire</td>\n",
       "      <td>NY.GDP.MKTP.CD</td>\n",
       "      <td>34936307980.063004</td>\n",
       "    </tr>\n",
       "    <tr>\n",
       "      <th>5922</th>\n",
       "      <td>2008</td>\n",
       "      <td>KAZ</td>\n",
       "      <td>Kazakhstan</td>\n",
       "      <td>NY.GDP.MKTP.CD</td>\n",
       "      <td>133441648851.981995</td>\n",
       "    </tr>\n",
       "  </tbody>\n",
       "</table>\n",
       "</div>"
      ]
     },
     "execution_count": 3,
     "metadata": {},
     "output_type": "execute_result"
    }
   ],
   "execution_count": 3
  },
  {
   "metadata": {},
   "cell_type": "markdown",
   "source": "You can of course get multiple indicators at once. For example, GDP and GDP per capita.",
   "id": "54c60d466db3309c"
  },
  {
   "metadata": {
    "ExecuteTime": {
     "end_time": "2024-11-29T14:53:06.741784Z",
     "start_time": "2024-11-29T14:52:42.873680Z"
    }
   },
   "cell_type": "code",
   "source": [
    "df = wb.get_data(['NY.GDP.MKTP.CD', 'NY.GDP.PCAP.CD'])\n",
    "\n",
    "df.sample(10)"
   ],
   "id": "bb97d3d2fe1b0fd3",
   "outputs": [
    {
     "name": "stderr",
     "output_type": "stream",
     "text": [
      "INFO: Cache cleared\n",
      "INFO: Fetching World Bank data for series: ['NY.GDP.MKTP.CD', 'NY.GDP.PCAP.CD']\n",
      "INFO: Data successfully fetched from World Bank API\n"
     ]
    },
    {
     "data": {
      "text/plain": [
       "       year entity_code                     entity_name  indicator_code  \\\n",
       "17181  1999         PRY                        Paraguay  NY.GDP.PCAP.CD   \n",
       "27696  2000         CEB  Central Europe and the Baltics  NY.GDP.PCAP.CD   \n",
       "8803   2019         CRI                      Costa Rica  NY.GDP.MKTP.CD   \n",
       "8794   1964         CIV                   Cote d'Ivoire  NY.GDP.MKTP.CD   \n",
       "16740  1982         RWA                          Rwanda  NY.GDP.PCAP.CD   \n",
       "1057   2000         TON                           Tonga  NY.GDP.MKTP.CD   \n",
       "10152  1993         BEN                           Benin  NY.GDP.MKTP.CD   \n",
       "14948  1962         TUN                         Tunisia  NY.GDP.PCAP.CD   \n",
       "19081  1986         MDG                      Madagascar  NY.GDP.PCAP.CD   \n",
       "25473  1995         TSA         South Asia (IDA & IBRD)  NY.GDP.PCAP.CD   \n",
       "\n",
       "                    value  \n",
       "17181         1758.260193  \n",
       "27696         3952.108476  \n",
       "8803   64417670521.184196  \n",
       "8794     921063326.589918  \n",
       "16740          248.941807  \n",
       "1057     204848487.806485  \n",
       "10152    2274558082.76135  \n",
       "14948          205.530208  \n",
       "19081          410.636006  \n",
       "25473          376.772633  "
      ],
      "text/html": [
       "<div>\n",
       "<style scoped>\n",
       "    .dataframe tbody tr th:only-of-type {\n",
       "        vertical-align: middle;\n",
       "    }\n",
       "\n",
       "    .dataframe tbody tr th {\n",
       "        vertical-align: top;\n",
       "    }\n",
       "\n",
       "    .dataframe thead th {\n",
       "        text-align: right;\n",
       "    }\n",
       "</style>\n",
       "<table border=\"1\" class=\"dataframe\">\n",
       "  <thead>\n",
       "    <tr style=\"text-align: right;\">\n",
       "      <th></th>\n",
       "      <th>year</th>\n",
       "      <th>entity_code</th>\n",
       "      <th>entity_name</th>\n",
       "      <th>indicator_code</th>\n",
       "      <th>value</th>\n",
       "    </tr>\n",
       "  </thead>\n",
       "  <tbody>\n",
       "    <tr>\n",
       "      <th>17181</th>\n",
       "      <td>1999</td>\n",
       "      <td>PRY</td>\n",
       "      <td>Paraguay</td>\n",
       "      <td>NY.GDP.PCAP.CD</td>\n",
       "      <td>1758.260193</td>\n",
       "    </tr>\n",
       "    <tr>\n",
       "      <th>27696</th>\n",
       "      <td>2000</td>\n",
       "      <td>CEB</td>\n",
       "      <td>Central Europe and the Baltics</td>\n",
       "      <td>NY.GDP.PCAP.CD</td>\n",
       "      <td>3952.108476</td>\n",
       "    </tr>\n",
       "    <tr>\n",
       "      <th>8803</th>\n",
       "      <td>2019</td>\n",
       "      <td>CRI</td>\n",
       "      <td>Costa Rica</td>\n",
       "      <td>NY.GDP.MKTP.CD</td>\n",
       "      <td>64417670521.184196</td>\n",
       "    </tr>\n",
       "    <tr>\n",
       "      <th>8794</th>\n",
       "      <td>1964</td>\n",
       "      <td>CIV</td>\n",
       "      <td>Cote d'Ivoire</td>\n",
       "      <td>NY.GDP.MKTP.CD</td>\n",
       "      <td>921063326.589918</td>\n",
       "    </tr>\n",
       "    <tr>\n",
       "      <th>16740</th>\n",
       "      <td>1982</td>\n",
       "      <td>RWA</td>\n",
       "      <td>Rwanda</td>\n",
       "      <td>NY.GDP.PCAP.CD</td>\n",
       "      <td>248.941807</td>\n",
       "    </tr>\n",
       "    <tr>\n",
       "      <th>1057</th>\n",
       "      <td>2000</td>\n",
       "      <td>TON</td>\n",
       "      <td>Tonga</td>\n",
       "      <td>NY.GDP.MKTP.CD</td>\n",
       "      <td>204848487.806485</td>\n",
       "    </tr>\n",
       "    <tr>\n",
       "      <th>10152</th>\n",
       "      <td>1993</td>\n",
       "      <td>BEN</td>\n",
       "      <td>Benin</td>\n",
       "      <td>NY.GDP.MKTP.CD</td>\n",
       "      <td>2274558082.76135</td>\n",
       "    </tr>\n",
       "    <tr>\n",
       "      <th>14948</th>\n",
       "      <td>1962</td>\n",
       "      <td>TUN</td>\n",
       "      <td>Tunisia</td>\n",
       "      <td>NY.GDP.PCAP.CD</td>\n",
       "      <td>205.530208</td>\n",
       "    </tr>\n",
       "    <tr>\n",
       "      <th>19081</th>\n",
       "      <td>1986</td>\n",
       "      <td>MDG</td>\n",
       "      <td>Madagascar</td>\n",
       "      <td>NY.GDP.PCAP.CD</td>\n",
       "      <td>410.636006</td>\n",
       "    </tr>\n",
       "    <tr>\n",
       "      <th>25473</th>\n",
       "      <td>1995</td>\n",
       "      <td>TSA</td>\n",
       "      <td>South Asia (IDA &amp; IBRD)</td>\n",
       "      <td>NY.GDP.PCAP.CD</td>\n",
       "      <td>376.772633</td>\n",
       "    </tr>\n",
       "  </tbody>\n",
       "</table>\n",
       "</div>"
      ]
     },
     "execution_count": 4,
     "metadata": {},
     "output_type": "execute_result"
    }
   ],
   "execution_count": 4
  },
  {
   "metadata": {},
   "cell_type": "markdown",
   "source": "The importer provides very convenient ways to filter the data before download it. For example, you can filter for specific countries and years.",
   "id": "7627684d158f16ac"
  },
  {
   "metadata": {
    "ExecuteTime": {
     "end_time": "2024-11-29T14:53:07.896557Z",
     "start_time": "2024-11-29T14:53:06.822809Z"
    }
   },
   "cell_type": "code",
   "source": [
    "# Instantiate a new object which will have the filters applied\n",
    "wb_filtered = bbdata.WorldBank()\n",
    "# Set the countries to get (Guatemala and Togo).\n",
    "wb_filtered.set_economies([\"GTM\", \"TGO\"])\n",
    "\n",
    "# Set the years to get to 2022 and 2023\n",
    "wb_filtered.set_years([2022, 2023])\n",
    "\n",
    "# Download GDP data.\n",
    "gdp_filtered = wb_filtered.get_data('NY.GDP.MKTP.CD')\n",
    "\n",
    "gdp_filtered"
   ],
   "id": "4b3eee7907a34904",
   "outputs": [
    {
     "name": "stderr",
     "output_type": "stream",
     "text": [
      "INFO: Fetching World Bank data for series: ['NY.GDP.MKTP.CD']\n",
      "INFO: Data successfully fetched from World Bank API\n"
     ]
    },
    {
     "data": {
      "text/plain": [
       "   year entity_code entity_name  indicator_code                value\n",
       "0  2023         TGO        Togo  NY.GDP.MKTP.CD    9171261835.062639\n",
       "1  2022         TGO        Togo  NY.GDP.MKTP.CD     8169476148.95692\n",
       "2  2023         GTM   Guatemala  NY.GDP.MKTP.CD  102050473863.636002\n",
       "3  2022         GTM   Guatemala  NY.GDP.MKTP.CD   95003330315.875397"
      ],
      "text/html": [
       "<div>\n",
       "<style scoped>\n",
       "    .dataframe tbody tr th:only-of-type {\n",
       "        vertical-align: middle;\n",
       "    }\n",
       "\n",
       "    .dataframe tbody tr th {\n",
       "        vertical-align: top;\n",
       "    }\n",
       "\n",
       "    .dataframe thead th {\n",
       "        text-align: right;\n",
       "    }\n",
       "</style>\n",
       "<table border=\"1\" class=\"dataframe\">\n",
       "  <thead>\n",
       "    <tr style=\"text-align: right;\">\n",
       "      <th></th>\n",
       "      <th>year</th>\n",
       "      <th>entity_code</th>\n",
       "      <th>entity_name</th>\n",
       "      <th>indicator_code</th>\n",
       "      <th>value</th>\n",
       "    </tr>\n",
       "  </thead>\n",
       "  <tbody>\n",
       "    <tr>\n",
       "      <th>0</th>\n",
       "      <td>2023</td>\n",
       "      <td>TGO</td>\n",
       "      <td>Togo</td>\n",
       "      <td>NY.GDP.MKTP.CD</td>\n",
       "      <td>9171261835.062639</td>\n",
       "    </tr>\n",
       "    <tr>\n",
       "      <th>1</th>\n",
       "      <td>2022</td>\n",
       "      <td>TGO</td>\n",
       "      <td>Togo</td>\n",
       "      <td>NY.GDP.MKTP.CD</td>\n",
       "      <td>8169476148.95692</td>\n",
       "    </tr>\n",
       "    <tr>\n",
       "      <th>2</th>\n",
       "      <td>2023</td>\n",
       "      <td>GTM</td>\n",
       "      <td>Guatemala</td>\n",
       "      <td>NY.GDP.MKTP.CD</td>\n",
       "      <td>102050473863.636002</td>\n",
       "    </tr>\n",
       "    <tr>\n",
       "      <th>3</th>\n",
       "      <td>2022</td>\n",
       "      <td>GTM</td>\n",
       "      <td>Guatemala</td>\n",
       "      <td>NY.GDP.MKTP.CD</td>\n",
       "      <td>95003330315.875397</td>\n",
       "    </tr>\n",
       "  </tbody>\n",
       "</table>\n",
       "</div>"
      ]
     },
     "execution_count": 5,
     "metadata": {},
     "output_type": "execute_result"
    }
   ],
   "execution_count": 5
  },
  {
   "metadata": {},
   "cell_type": "markdown",
   "source": "The importer also makes it possible to download the most recent value for a particular indicator (as always for one or more countries). For example, for the GDP indicator.",
   "id": "7746ad84e9f1b243"
  },
  {
   "metadata": {
    "ExecuteTime": {
     "end_time": "2024-11-29T14:53:08.943515Z",
     "start_time": "2024-11-29T14:53:07.972969Z"
    }
   },
   "cell_type": "code",
   "source": [
    "# Create a new object which downloads the most recent data\n",
    "wb_most_recent = bbdata.WorldBank()\n",
    "\n",
    "# Set to get the 1 most recent value. This number can be a larger integer if needed.\n",
    "wb_most_recent.set_most_recent_values_to_get(1)\n",
    "\n",
    "# You can also get the most recent-non empty value by using the following method\n",
    "# wb_most_recent.set_most_recent_non_empty_value(1)\n",
    "\n",
    "# Download GDP data.\n",
    "gdp_most_recent = wb_most_recent.get_data('NY.GDP.MKTP.CD')\n",
    "\n",
    "gdp_most_recent.head(10)\n"
   ],
   "id": "80da998706f979e",
   "outputs": [
    {
     "name": "stderr",
     "output_type": "stream",
     "text": [
      "INFO: Fetching World Bank data for series: ['NY.GDP.MKTP.CD']\n",
      "INFO: Data successfully fetched from World Bank API\n"
     ]
    },
    {
     "data": {
      "text/plain": [
       "   year entity_code           entity_name  indicator_code  \\\n",
       "0  2023         ZWE              Zimbabwe  NY.GDP.MKTP.CD   \n",
       "1  2023         ZMB                Zambia  NY.GDP.MKTP.CD   \n",
       "2  2023         PSE    West Bank and Gaza  NY.GDP.MKTP.CD   \n",
       "3  2023         VNM              Viet Nam  NY.GDP.MKTP.CD   \n",
       "4  2023         VUT               Vanuatu  NY.GDP.MKTP.CD   \n",
       "5  2023         UZB            Uzbekistan  NY.GDP.MKTP.CD   \n",
       "6  2023         URY               Uruguay  NY.GDP.MKTP.CD   \n",
       "7  2023         USA         United States  NY.GDP.MKTP.CD   \n",
       "8  2023         GBR        United Kingdom  NY.GDP.MKTP.CD   \n",
       "9  2023         ARE  United Arab Emirates  NY.GDP.MKTP.CD   \n",
       "\n",
       "                  value  \n",
       "0      26538273498.8461  \n",
       "1    28162630953.928501  \n",
       "2         17396300000.0  \n",
       "3   429716969049.593018  \n",
       "4      1126313359.21923  \n",
       "5    90889149306.731293  \n",
       "6    77240831587.167007  \n",
       "7      27360935000000.0  \n",
       "8  3340032380668.040039  \n",
       "9   504173451327.434021  "
      ],
      "text/html": [
       "<div>\n",
       "<style scoped>\n",
       "    .dataframe tbody tr th:only-of-type {\n",
       "        vertical-align: middle;\n",
       "    }\n",
       "\n",
       "    .dataframe tbody tr th {\n",
       "        vertical-align: top;\n",
       "    }\n",
       "\n",
       "    .dataframe thead th {\n",
       "        text-align: right;\n",
       "    }\n",
       "</style>\n",
       "<table border=\"1\" class=\"dataframe\">\n",
       "  <thead>\n",
       "    <tr style=\"text-align: right;\">\n",
       "      <th></th>\n",
       "      <th>year</th>\n",
       "      <th>entity_code</th>\n",
       "      <th>entity_name</th>\n",
       "      <th>indicator_code</th>\n",
       "      <th>value</th>\n",
       "    </tr>\n",
       "  </thead>\n",
       "  <tbody>\n",
       "    <tr>\n",
       "      <th>0</th>\n",
       "      <td>2023</td>\n",
       "      <td>ZWE</td>\n",
       "      <td>Zimbabwe</td>\n",
       "      <td>NY.GDP.MKTP.CD</td>\n",
       "      <td>26538273498.8461</td>\n",
       "    </tr>\n",
       "    <tr>\n",
       "      <th>1</th>\n",
       "      <td>2023</td>\n",
       "      <td>ZMB</td>\n",
       "      <td>Zambia</td>\n",
       "      <td>NY.GDP.MKTP.CD</td>\n",
       "      <td>28162630953.928501</td>\n",
       "    </tr>\n",
       "    <tr>\n",
       "      <th>2</th>\n",
       "      <td>2023</td>\n",
       "      <td>PSE</td>\n",
       "      <td>West Bank and Gaza</td>\n",
       "      <td>NY.GDP.MKTP.CD</td>\n",
       "      <td>17396300000.0</td>\n",
       "    </tr>\n",
       "    <tr>\n",
       "      <th>3</th>\n",
       "      <td>2023</td>\n",
       "      <td>VNM</td>\n",
       "      <td>Viet Nam</td>\n",
       "      <td>NY.GDP.MKTP.CD</td>\n",
       "      <td>429716969049.593018</td>\n",
       "    </tr>\n",
       "    <tr>\n",
       "      <th>4</th>\n",
       "      <td>2023</td>\n",
       "      <td>VUT</td>\n",
       "      <td>Vanuatu</td>\n",
       "      <td>NY.GDP.MKTP.CD</td>\n",
       "      <td>1126313359.21923</td>\n",
       "    </tr>\n",
       "    <tr>\n",
       "      <th>5</th>\n",
       "      <td>2023</td>\n",
       "      <td>UZB</td>\n",
       "      <td>Uzbekistan</td>\n",
       "      <td>NY.GDP.MKTP.CD</td>\n",
       "      <td>90889149306.731293</td>\n",
       "    </tr>\n",
       "    <tr>\n",
       "      <th>6</th>\n",
       "      <td>2023</td>\n",
       "      <td>URY</td>\n",
       "      <td>Uruguay</td>\n",
       "      <td>NY.GDP.MKTP.CD</td>\n",
       "      <td>77240831587.167007</td>\n",
       "    </tr>\n",
       "    <tr>\n",
       "      <th>7</th>\n",
       "      <td>2023</td>\n",
       "      <td>USA</td>\n",
       "      <td>United States</td>\n",
       "      <td>NY.GDP.MKTP.CD</td>\n",
       "      <td>27360935000000.0</td>\n",
       "    </tr>\n",
       "    <tr>\n",
       "      <th>8</th>\n",
       "      <td>2023</td>\n",
       "      <td>GBR</td>\n",
       "      <td>United Kingdom</td>\n",
       "      <td>NY.GDP.MKTP.CD</td>\n",
       "      <td>3340032380668.040039</td>\n",
       "    </tr>\n",
       "    <tr>\n",
       "      <th>9</th>\n",
       "      <td>2023</td>\n",
       "      <td>ARE</td>\n",
       "      <td>United Arab Emirates</td>\n",
       "      <td>NY.GDP.MKTP.CD</td>\n",
       "      <td>504173451327.434021</td>\n",
       "    </tr>\n",
       "  </tbody>\n",
       "</table>\n",
       "</div>"
      ]
     },
     "execution_count": 6,
     "metadata": {},
     "output_type": "execute_result"
    }
   ],
   "execution_count": 6
  },
  {
   "metadata": {},
   "cell_type": "markdown",
   "source": [
    "## Additional tools\n",
    "\n",
    "The importer has several other convience methods.\n",
    "\n",
    "For example, you can get a dictionary of countries by income level."
   ],
   "id": "ffd50191eab378a8"
  },
  {
   "metadata": {
    "ExecuteTime": {
     "end_time": "2024-11-29T14:53:10.642804Z",
     "start_time": "2024-11-29T14:53:09.010437Z"
    }
   },
   "cell_type": "code",
   "source": [
    "countries_by_income = wb.get_countries_by_income_level()\n",
    "\n",
    "# For it to be visible here, we will print the keys only\n",
    "print(\"Keys:\\n\",countries_by_income.keys())\n",
    "\n",
    "# each dictionary contains country codes\n",
    "print(\"High income\\n\",countries_by_income['High income'])"
   ],
   "id": "be0c465c5e12694a",
   "outputs": [
    {
     "name": "stdout",
     "output_type": "stream",
     "text": [
      "Keys:\n",
      " dict_keys(['High income', 'Not classified', 'Low income', 'Lower middle income', 'Low & middle income', 'Middle income', 'Upper middle income'])\n",
      "High income\n",
      " {'MAF', 'TTO', 'NRU', 'PLW', 'CZE', 'CUW', 'ITA', 'SYC', 'MNP', 'TCA', 'HUN', 'URY', 'USA', 'IMN', 'ISR', 'AND', 'BGR', 'BHS', 'GRL', 'CYP', 'JPN', 'SGP', 'MAC', 'PAN', 'LIE', 'AUS', 'ROU', 'ATG', 'KWT', 'HKG', 'PRT', 'HRV', 'GRC', 'KNA', 'FRO', 'SVN', 'SXM', 'CHI', 'QAT', 'ISL', 'ARE', 'NLD', 'NZL', 'VIR', 'KOR', 'SMR', 'IRL', 'DNK', 'VGB', 'LTU', 'ESP', 'SAU', 'EST', 'GIB', 'BEL', 'PRI', 'GUY', 'NCL', 'ABW', 'POL', 'CHL', 'LUX', 'NOR', 'OMN', 'CAN', 'AUT', 'SVK', 'GBR', 'SWE', 'PYF', 'GUM', 'CYM', 'LVA', 'MLT', 'BRN', 'ASM', 'BHR', 'CHE', 'RUS', 'FIN', 'FRA', 'BRB', 'BMU', 'MCO', 'DEU'}\n"
     ]
    }
   ],
   "execution_count": 7
  },
  {
   "metadata": {},
   "cell_type": "markdown",
   "source": "Or you can get countries by lending type:",
   "id": "3641d49c05f883ae"
  },
  {
   "metadata": {},
   "cell_type": "markdown",
   "source": "",
   "id": "ff2e434d773c30da"
  },
  {
   "metadata": {
    "ExecuteTime": {
     "end_time": "2024-11-29T14:53:12.187073Z",
     "start_time": "2024-11-29T14:53:10.712680Z"
    }
   },
   "cell_type": "code",
   "source": [
    "countries_by_lending = wb.get_countries_by_lending_type()\n",
    "\n",
    "# For it to be visible here, we will print the keys only\n",
    "print(\"Keys:\\n\",countries_by_lending.keys())\n",
    "\n",
    "# Each dictionary contains country codes\n",
    "print(\"IDA\\n\",countries_by_lending['IDA'])"
   ],
   "id": "db6be511f8864edb",
   "outputs": [
    {
     "name": "stdout",
     "output_type": "stream",
     "text": [
      "Keys:\n",
      " dict_keys(['IBRD', 'Blend', 'IDA', 'Not classified'])\n",
      "IDA\n",
      " {'LBR', 'NIC', 'GIN', 'SDN', 'MDG', 'TUV', 'ETH', 'XKX', 'CAF', 'ERI', 'CIV', 'HND', 'KIR', 'LAO', 'NER', 'SSD', 'BDI', 'KGZ', 'GNB', 'VUT', 'RWA', 'GMB', 'BEN', 'MRT', 'SLB', 'MWI', 'STP', 'MDV', 'SYR', 'SOM', 'LSO', 'YEM', 'UGA', 'COD', 'GUY', 'BGD', 'TGO', 'TZA', 'SLE', 'ZMB', 'COM', 'TON', 'KHM', 'AFG', 'NPL', 'HTI', 'MLI', 'FSM', 'GHA', 'MOZ', 'SEN', 'MHL', 'MMR', 'TJK', 'TCD', 'BTN', 'DJI', 'BFA', 'WSM', 'LKA'}\n"
     ]
    }
   ],
   "execution_count": 8
  },
  {
   "metadata": {},
   "cell_type": "markdown",
   "source": "You can also get countries by region:",
   "id": "89c96c01c8e63044"
  },
  {
   "metadata": {
    "ExecuteTime": {
     "end_time": "2024-11-29T14:53:23.041986Z",
     "start_time": "2024-11-29T14:53:12.220865Z"
    }
   },
   "cell_type": "code",
   "source": [
    "countries_by_region = wb.get_countries_by_region()\n",
    "\n",
    "# For it to be visible here, we will print the keys only\n",
    "print(\"Keys:\\n\",countries_by_region.keys())\n",
    "\n",
    "# Each dictionary contains country codes\n",
    "print(\"Africa\\n\",countries_by_region['Africa'])"
   ],
   "id": "38348442fde40b82",
   "outputs": [
    {
     "name": "stderr",
     "output_type": "stream",
     "text": [
      "INFO: Fetching countries by region. There are over 40 regions, so this may take a while.\n"
     ]
    },
    {
     "name": "stdout",
     "output_type": "stream",
     "text": [
      "Keys:\n",
      " dict_keys(['Africa Eastern and Southern', 'Africa', 'Africa Western and Central', 'Arab World', 'Sub-Saharan Africa (IFC classification)', 'East Asia and the Pacific (IFC classification)', 'Central Europe and the Baltics', 'Europe and Central Asia (IFC classification)', 'Latin America and the Caribbean (IFC classification)', 'Middle East and North Africa (IFC classification)', 'South Asia (IFC classification)', 'Caribbean small states', 'East Asia & Pacific (excluding high income)', 'Early-demographic dividend', 'East Asia & Pacific', 'Europe & Central Asia (excluding high income)', 'Europe & Central Asia', 'Euro area', 'European Union', 'Fragile and conflict affected situations', 'Heavily indebted poor countries (HIPC)', 'Latin America & Caribbean (excluding high income)', 'Latin America & Caribbean ', 'Least developed countries: UN classification', 'Late-demographic dividend', 'Middle East (developing only)', 'Middle East & North Africa', 'Middle East & North Africa (excluding high income)', 'North America', 'North Africa', 'Non-resource rich Sub-Saharan Africa countries', 'OECD members', 'Other small states', 'Pre-demographic dividend', 'Pacific island small states', 'Post-demographic dividend', 'Resource rich Sub-Saharan Africa countries', 'South Asia', 'Sub-Saharan Africa (excluding high income)', 'Sub-Saharan Africa ', 'Small states', 'Sub-Saharan Africa excluding South Africa', 'World', 'Sub-Saharan Africa excluding South Africa and Nigeria'])\n",
      "Africa\n",
      " {'CPV', 'MAR', 'LBR', 'SWZ', 'GAB', 'GIN', 'SDN', 'MDG', 'ZWE', 'ETH', 'TUN', 'CAF', 'BWA', 'NAM', 'ERI', 'CIV', 'NER', 'SSD', 'BDI', 'GNB', 'GNQ', 'GMB', 'RWA', 'BEN', 'ZAF', 'MRT', 'MUS', 'MWI', 'KEN', 'STP', 'SYC', 'SOM', 'LSO', 'UGA', 'COD', 'TGO', 'TZA', 'SLE', 'ZMB', 'COM', 'CMR', 'LBY', 'AGO', 'EGY', 'MLI', 'GHA', 'MOZ', 'COG', 'SEN', 'NGA', 'DJI', 'TCD', 'DZA', 'BFA'}\n"
     ]
    }
   ],
   "execution_count": 9
  },
  {
   "metadata": {},
   "cell_type": "markdown",
   "source": "Or directly access a list of African countries, for example",
   "id": "7213ad5a3d5fb789"
  },
  {
   "metadata": {
    "ExecuteTime": {
     "end_time": "2024-11-29T14:53:23.308303Z",
     "start_time": "2024-11-29T14:53:23.139410Z"
    }
   },
   "cell_type": "code",
   "source": [
    "african_countries = wb.get_african_countries()\n",
    "\n",
    "african_countries"
   ],
   "id": "144041ec6b0a8c50",
   "outputs": [
    {
     "data": {
      "text/plain": [
       "['CPV',\n",
       " 'MAR',\n",
       " 'LBR',\n",
       " 'SWZ',\n",
       " 'GAB',\n",
       " 'GIN',\n",
       " 'SDN',\n",
       " 'MDG',\n",
       " 'ZWE',\n",
       " 'ETH',\n",
       " 'TUN',\n",
       " 'CAF',\n",
       " 'BWA',\n",
       " 'NAM',\n",
       " 'ERI',\n",
       " 'CIV',\n",
       " 'NER',\n",
       " 'SSD',\n",
       " 'BDI',\n",
       " 'GNB',\n",
       " 'GNQ',\n",
       " 'GMB',\n",
       " 'RWA',\n",
       " 'BEN',\n",
       " 'ZAF',\n",
       " 'MRT',\n",
       " 'MUS',\n",
       " 'MWI',\n",
       " 'KEN',\n",
       " 'STP',\n",
       " 'SYC',\n",
       " 'SOM',\n",
       " 'LSO',\n",
       " 'UGA',\n",
       " 'COD',\n",
       " 'TGO',\n",
       " 'TZA',\n",
       " 'SLE',\n",
       " 'ZMB',\n",
       " 'COM',\n",
       " 'CMR',\n",
       " 'LBY',\n",
       " 'AGO',\n",
       " 'EGY',\n",
       " 'MLI',\n",
       " 'GHA',\n",
       " 'MOZ',\n",
       " 'COG',\n",
       " 'SEN',\n",
       " 'NGA',\n",
       " 'DJI',\n",
       " 'TCD',\n",
       " 'DZA',\n",
       " 'BFA']"
      ]
     },
     "execution_count": 10,
     "metadata": {},
     "output_type": "execute_result"
    }
   ],
   "execution_count": 10
  },
  {
   "metadata": {},
   "cell_type": "markdown",
   "source": "You can also get the metadata of any indicator. For example for GDP.",
   "id": "3739fc74142fee53"
  },
  {
   "metadata": {
    "ExecuteTime": {
     "end_time": "2024-11-29T14:53:23.916491Z",
     "start_time": "2024-11-29T14:53:23.328937Z"
    }
   },
   "cell_type": "code",
   "source": [
    "metadata = wb.get_indicator_metadata('NY.GDP.MKTP.CD')\n",
    "metadata"
   ],
   "id": "7abb485d4670b9a0",
   "outputs": [
    {
     "data": {
      "text/plain": [
       "{'Aggregationmethod': 'Gap-filled total',\n",
       " 'IndicatorName': 'GDP (current US$)',\n",
       " 'License_Type': 'CC BY-4.0',\n",
       " 'License_URL': 'https://datacatalog.worldbank.org/public-licenses#cc-by',\n",
       " 'Limitationsandexceptions': 'Gross domestic product (GDP), though widely tracked, may not always be the most relevant summary of aggregated economic performance for all economies, especially when production occurs at the expense of consuming capital stock.\\n\\nWhile GDP estimates based on the production approach are generally more reliable than estimates compiled from the income or expenditure side, different countries use different definitions, methods, and reporting standards. World Bank staff review the quality of national accounts data and sometimes make adjustments to improve consistency with international guidelines. Nevertheless, significant discrepancies remain between international standards and actual practice. Many statistical offices, especially those in developing countries, face severe limitations in the resources, time, training, and budgets required to produce reliable and comprehensive series of national accounts statistics.\\n\\nAmong the difficulties faced by compilers of national accounts is the extent of unreported economic activity in the informal or secondary economy. In developing countries a large share of agricultural output is either not exchanged (because it is consumed within the household) or not exchanged for money.',\n",
       " 'Longdefinition': \"GDP at purchaser's prices is the sum of gross value added by all resident producers in the economy plus any product taxes and minus any subsidies not included in the value of the products. It is calculated without making deductions for depreciation of fabricated assets or for depletion and degradation of natural resources. Data are in current U.S. dollars. Dollar figures for GDP are converted from domestic currencies using single year official exchange rates. For a few countries where the official exchange rate does not reflect the rate effectively applied to actual foreign exchange transactions, an alternative conversion factor is used.\",\n",
       " 'Periodicity': 'Annual',\n",
       " 'Source': 'World Bank national accounts data, and OECD National Accounts data files.',\n",
       " 'Statisticalconceptandmethodology': 'Gross domestic product (GDP) represents the sum of value added by all its producers. Value added is the value of the gross output of producers less the value of intermediate goods and services consumed in production, before accounting for consumption of fixed capital in production. The United Nations System of National Accounts calls for value added to be valued at either basic prices (excluding net taxes on products) or producer prices (including net taxes on products paid by producers but excluding sales or value added taxes). Both valuations exclude transport charges that are invoiced separately by producers. Total GDP is measured at purchaser prices. Value added by industry is normally measured at basic prices.',\n",
       " 'Topic': 'Economic Policy & Debt: National accounts: US$ at current prices: Aggregate indicators'}"
      ]
     },
     "execution_count": 11,
     "metadata": {},
     "output_type": "execute_result"
    }
   ],
   "execution_count": 11
  },
  {
   "metadata": {},
   "cell_type": "markdown",
   "source": "Or the available metadata for economies:",
   "id": "dba333b4fdf2fedb"
  },
  {
   "metadata": {
    "ExecuteTime": {
     "end_time": "2024-11-29T14:53:24.243672Z",
     "start_time": "2024-11-29T14:53:23.932604Z"
    }
   },
   "cell_type": "code",
   "source": [
    "economies_metadata = wb.get_economies_metadata()\n",
    "economies_metadata.sample(5)"
   ],
   "id": "6b629a2f38b4fdc1",
   "outputs": [
    {
     "data": {
      "text/plain": [
       "            name  aggregate  longitude  latitude                      region  \\\n",
       "id                                                                             \n",
       "SWE       Sweden      False   18.06450   59.3327       Europe & Central Asia   \n",
       "LBN      Lebanon      False   35.51340   33.8872  Middle East & North Africa   \n",
       "CHN        China      False  116.28600   40.0495         East Asia & Pacific   \n",
       "GMB  Gambia, The      False  -16.58850   13.4495          Sub-Saharan Africa   \n",
       "IRL      Ireland      False   -6.26749   53.3441       Europe & Central Asia   \n",
       "\n",
       "                                           adminregion     lendingType  \\\n",
       "id                                                                       \n",
       "SWE                                               None  Not classified   \n",
       "LBN  Middle East & North Africa (excluding high inc...            IBRD   \n",
       "CHN        East Asia & Pacific (excluding high income)            IBRD   \n",
       "GMB         Sub-Saharan Africa (excluding high income)             IDA   \n",
       "IRL                                               None  Not classified   \n",
       "\n",
       "             incomeLevel capitalCity  \n",
       "id                                    \n",
       "SWE          High income   Stockholm  \n",
       "LBN  Lower middle income      Beirut  \n",
       "CHN  Upper middle income     Beijing  \n",
       "GMB           Low income      Banjul  \n",
       "IRL          High income      Dublin  "
      ],
      "text/html": [
       "<div>\n",
       "<style scoped>\n",
       "    .dataframe tbody tr th:only-of-type {\n",
       "        vertical-align: middle;\n",
       "    }\n",
       "\n",
       "    .dataframe tbody tr th {\n",
       "        vertical-align: top;\n",
       "    }\n",
       "\n",
       "    .dataframe thead th {\n",
       "        text-align: right;\n",
       "    }\n",
       "</style>\n",
       "<table border=\"1\" class=\"dataframe\">\n",
       "  <thead>\n",
       "    <tr style=\"text-align: right;\">\n",
       "      <th></th>\n",
       "      <th>name</th>\n",
       "      <th>aggregate</th>\n",
       "      <th>longitude</th>\n",
       "      <th>latitude</th>\n",
       "      <th>region</th>\n",
       "      <th>adminregion</th>\n",
       "      <th>lendingType</th>\n",
       "      <th>incomeLevel</th>\n",
       "      <th>capitalCity</th>\n",
       "    </tr>\n",
       "    <tr>\n",
       "      <th>id</th>\n",
       "      <th></th>\n",
       "      <th></th>\n",
       "      <th></th>\n",
       "      <th></th>\n",
       "      <th></th>\n",
       "      <th></th>\n",
       "      <th></th>\n",
       "      <th></th>\n",
       "      <th></th>\n",
       "    </tr>\n",
       "  </thead>\n",
       "  <tbody>\n",
       "    <tr>\n",
       "      <th>SWE</th>\n",
       "      <td>Sweden</td>\n",
       "      <td>False</td>\n",
       "      <td>18.06450</td>\n",
       "      <td>59.3327</td>\n",
       "      <td>Europe &amp; Central Asia</td>\n",
       "      <td>None</td>\n",
       "      <td>Not classified</td>\n",
       "      <td>High income</td>\n",
       "      <td>Stockholm</td>\n",
       "    </tr>\n",
       "    <tr>\n",
       "      <th>LBN</th>\n",
       "      <td>Lebanon</td>\n",
       "      <td>False</td>\n",
       "      <td>35.51340</td>\n",
       "      <td>33.8872</td>\n",
       "      <td>Middle East &amp; North Africa</td>\n",
       "      <td>Middle East &amp; North Africa (excluding high inc...</td>\n",
       "      <td>IBRD</td>\n",
       "      <td>Lower middle income</td>\n",
       "      <td>Beirut</td>\n",
       "    </tr>\n",
       "    <tr>\n",
       "      <th>CHN</th>\n",
       "      <td>China</td>\n",
       "      <td>False</td>\n",
       "      <td>116.28600</td>\n",
       "      <td>40.0495</td>\n",
       "      <td>East Asia &amp; Pacific</td>\n",
       "      <td>East Asia &amp; Pacific (excluding high income)</td>\n",
       "      <td>IBRD</td>\n",
       "      <td>Upper middle income</td>\n",
       "      <td>Beijing</td>\n",
       "    </tr>\n",
       "    <tr>\n",
       "      <th>GMB</th>\n",
       "      <td>Gambia, The</td>\n",
       "      <td>False</td>\n",
       "      <td>-16.58850</td>\n",
       "      <td>13.4495</td>\n",
       "      <td>Sub-Saharan Africa</td>\n",
       "      <td>Sub-Saharan Africa (excluding high income)</td>\n",
       "      <td>IDA</td>\n",
       "      <td>Low income</td>\n",
       "      <td>Banjul</td>\n",
       "    </tr>\n",
       "    <tr>\n",
       "      <th>IRL</th>\n",
       "      <td>Ireland</td>\n",
       "      <td>False</td>\n",
       "      <td>-6.26749</td>\n",
       "      <td>53.3441</td>\n",
       "      <td>Europe &amp; Central Asia</td>\n",
       "      <td>None</td>\n",
       "      <td>Not classified</td>\n",
       "      <td>High income</td>\n",
       "      <td>Dublin</td>\n",
       "    </tr>\n",
       "  </tbody>\n",
       "</table>\n",
       "</div>"
      ]
     },
     "execution_count": 12,
     "metadata": {},
     "output_type": "execute_result"
    }
   ],
   "execution_count": 12
  }
 ],
 "metadata": {
  "kernelspec": {
   "display_name": "Python 3",
   "language": "python",
   "name": "python3"
  },
  "language_info": {
   "codemirror_mode": {
    "name": "ipython",
    "version": 2
   },
   "file_extension": ".py",
   "mimetype": "text/x-python",
   "name": "python",
   "nbconvert_exporter": "python",
   "pygments_lexer": "ipython2",
   "version": "2.7.6"
  }
 },
 "nbformat": 4,
 "nbformat_minor": 5
}
