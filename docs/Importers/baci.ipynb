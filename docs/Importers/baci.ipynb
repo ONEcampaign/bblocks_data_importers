{
 "cells": [
  {
   "metadata": {},
   "cell_type": "markdown",
   "source": [
    "# BACI importer\n",
    "The `BACI` importer gives you access to CEPII's BACI database on international trade, which is built using the UN COMTRADE\n",
    "database and includes reconciliation procedures."
   ],
   "id": "7d917c0e176b27ef"
  },
  {
   "metadata": {},
   "cell_type": "markdown",
   "source": "## Basic usage",
   "id": "5ccfdc6a0b92babf"
  },
  {
   "metadata": {
    "ExecuteTime": {
     "end_time": "2025-05-01T21:16:48.807861Z",
     "start_time": "2025-05-01T21:16:47.892569Z"
    }
   },
   "cell_type": "code",
   "source": "import bblocks_data_importers as bbdata",
   "id": "daa7000e6accb31d",
   "outputs": [],
   "execution_count": 1
  },
  {
   "metadata": {},
   "cell_type": "markdown",
   "source": "First, initiate a BACI object. It is recommended that you specify a path to save the data. Otherwise, the data will be saved to the current directory.",
   "id": "42efa8c8ec0e0c3"
  },
  {
   "metadata": {
    "ExecuteTime": {
     "end_time": "2025-05-01T21:25:34.165867Z",
     "start_time": "2025-05-01T21:24:45.695261Z"
    }
   },
   "cell_type": "code",
   "source": [
    "baci = bbdata.BACI(\n",
    "    # data_path=\"my/local/directory\")\n",
    ")"
   ],
   "id": "4c2ff678026761c2",
   "outputs": [
    {
     "name": "stderr",
     "output_type": "stream",
     "text": [
      "INFO: Importing data from local file: /Users/miguelharoruiz/Development/bblocks_data_importers/docs/Importers/BACI_HS17_V202501\n",
      "INFO: Data imported successfully\n"
     ]
    }
   ],
   "execution_count": 9
  },
  {
   "metadata": {},
   "cell_type": "markdown",
   "source": "Get the latest BACI data with:",
   "id": "ea53bece7e0bae31"
  },
  {
   "metadata": {
    "ExecuteTime": {
     "end_time": "2025-05-01T21:25:34.178270Z",
     "start_time": "2025-05-01T21:25:34.173244Z"
    }
   },
   "cell_type": "code",
   "source": [
    "df = baci.get_data()\n",
    "df.head()"
   ],
   "id": "e8df9a72cbfe521",
   "outputs": [],
   "execution_count": 10
  },
  {
   "metadata": {},
   "cell_type": "markdown",
   "source": [
    "You can specify a BACI version and an HS classification.\n",
    "\n",
    "Note: hs_version determines how far back in time the data goes.\n",
    "For example, the default value \"22\" returns data from 2022 onward.\n",
    "\n",
    "You can also choose the country code format and whether to include product code descriptions in the output."
   ],
   "id": "7925e01da52a4450"
  },
  {
   "metadata": {
    "ExecuteTime": {
     "end_time": "2025-05-01T21:17:32.662419Z",
     "start_time": "2025-05-01T21:17:32.660520Z"
    }
   },
   "cell_type": "code",
   "source": [
    "# baci = BACI(\n",
    "#     data_path=\"my/local/directory\"\n",
    "#     baci_version=\"202401\",\n",
    "#     hs_version=\"17\",\n",
    "#     country_format=\"iso3\",\n",
    "#     product_description=False\n",
    "# )"
   ],
   "id": "b518ec6bed884f6c",
   "outputs": [],
   "execution_count": 5
  },
  {
   "metadata": {},
   "cell_type": "markdown",
   "source": "To access metadata from a BACI object:",
   "id": "597db5efe2c921d6"
  },
  {
   "metadata": {
    "ExecuteTime": {
     "end_time": "2025-05-01T21:17:32.738414Z",
     "start_time": "2025-05-01T21:17:32.736481Z"
    }
   },
   "cell_type": "code",
   "source": "metadata = baci.get_metadata()",
   "id": "5587aa22c31e98ef",
   "outputs": [],
   "execution_count": 6
  },
  {
   "metadata": {},
   "cell_type": "markdown",
   "source": "The data and metadata are cached to avoid building the dataset again. Clear the cache with:\n",
   "id": "cea4075ad0080c25"
  },
  {
   "metadata": {
    "ExecuteTime": {
     "end_time": "2025-05-01T21:17:32.826112Z",
     "start_time": "2025-05-01T21:17:32.823801Z"
    }
   },
   "cell_type": "code",
   "source": "baci.clear_cache()",
   "id": "49fe45d0a54e514a",
   "outputs": [
    {
     "name": "stderr",
     "output_type": "stream",
     "text": [
      "INFO: Cache cleared\n"
     ]
    }
   ],
   "execution_count": 7
  }
 ],
 "metadata": {
  "kernelspec": {
   "display_name": "Python 3",
   "language": "python",
   "name": "python3"
  },
  "language_info": {
   "codemirror_mode": {
    "name": "ipython",
    "version": 2
   },
   "file_extension": ".py",
   "mimetype": "text/x-python",
   "name": "python",
   "nbconvert_exporter": "python",
   "pygments_lexer": "ipython2",
   "version": "2.7.6"
  }
 },
 "nbformat": 4,
 "nbformat_minor": 5
}
