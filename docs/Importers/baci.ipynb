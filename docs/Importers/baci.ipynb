{
 "cells": [
  {
   "metadata": {},
   "cell_type": "markdown",
   "source": [
    "# BACI importer\n",
    "The `BACI` importer gives you access to CEPII's BACI database on international trade, which is built using the UN COMTRADE\n",
    "database and includes reconciliation procedures."
   ],
   "id": "7d917c0e176b27ef"
  },
  {
   "metadata": {},
   "cell_type": "markdown",
   "source": "## Basic usage",
   "id": "5ccfdc6a0b92babf"
  },
  {
   "metadata": {
    "ExecuteTime": {
     "end_time": "2025-05-06T13:35:32.071769Z",
     "start_time": "2025-05-06T13:35:31.664247Z"
    }
   },
   "cell_type": "code",
   "source": "import bblocks_data_importers as bbdata",
   "id": "daa7000e6accb31d",
   "outputs": [],
   "execution_count": 1
  },
  {
   "metadata": {},
   "cell_type": "markdown",
   "source": "First, initiate a BACI object. You must specify a path to save the data locally. You may also specify a BACI version with baci_version. If not specified, the object will be set to the latest BACI version available. You can specify an HS classification. Note that hs_version determines how far back in time the data goes. For example, the default value \"22\" returns data from 2022 onward.",
   "id": "42efa8c8ec0e0c3"
  },
  {
   "metadata": {
    "ExecuteTime": {
     "end_time": "2025-05-06T13:35:32.447205Z",
     "start_time": "2025-05-06T13:35:32.079120Z"
    }
   },
   "cell_type": "code",
   "source": [
    "baci = bbdata.BACI(\n",
    "    data_path=\"my/local/folder\",\n",
    "    baci_version=\"latest\",\n",
    "    hs_version=\"22\",\n",
    ")"
   ],
   "id": "4c2ff678026761c2",
   "outputs": [],
   "execution_count": 2
  },
  {
   "metadata": {},
   "cell_type": "markdown",
   "source": "If you would like to explore older BACI versions, the `get_versions()` method returns a dictionary with the different BACI versions available and their supported HS versions, as well as bool indicator to identify the latest BACI version.",
   "id": "9b6b1e782119547f"
  },
  {
   "metadata": {},
   "cell_type": "code",
   "outputs": [],
   "execution_count": null,
   "source": "versions = baci.get_versions()",
   "id": "979e2d483e9f2838"
  },
  {
   "metadata": {},
   "cell_type": "markdown",
   "source": [
    "Get the BACI data with the `get_data()` method. The function will look for a folder of the format 'BACI_HSXX_V20XXX' in the specified data_path, and download if not found.\n",
    "\n",
    "You can indicate whether to include country names in the final DataFrame (defaults to True) or filter the years included in the data."
   ],
   "id": "ea53bece7e0bae31"
  },
  {
   "metadata": {
    "ExecuteTime": {
     "end_time": "2025-05-06T13:36:34.924543Z",
     "start_time": "2025-05-06T13:35:32.558630Z"
    }
   },
   "cell_type": "code",
   "source": [
    "data = baci.get_data(\n",
    "    include_country_names=True,\n",
    "    years=range(2022, 2024)\n",
    ")\n",
    "data.head()"
   ],
   "id": "e8df9a72cbfe521",
   "outputs": [
    {
     "name": "stderr",
     "output_type": "stream",
     "text": [
      "INFO: Downloading BACI data. This may take a while...\n",
      "INFO: Building consolidated dataset\n",
      "INFO: Saving consolidated BACI dataset to /Users/miguelharoruiz/Development/bblocks_data_importers/docs/Importers/BACI_HS22_V202501/parquet\n",
      "INFO: Data loaded successfully\n"
     ]
    },
    {
     "data": {
      "text/plain": [
       "   year exporter importer product_code      value   quantity\n",
       "0  2023      AFG      AND       200290      8.013       5.83\n",
       "1  2023      AFG      AZE       252620      9.808  77.150002\n",
       "2  2023      AFG      AZE       680221  33.787998  76.654999\n",
       "3  2023      AFG      AZE       761510      6.604      2.368\n",
       "4  2023      AFG      AZE       860900        1.5        2.2"
      ],
      "text/html": [
       "<div>\n",
       "<style scoped>\n",
       "    .dataframe tbody tr th:only-of-type {\n",
       "        vertical-align: middle;\n",
       "    }\n",
       "\n",
       "    .dataframe tbody tr th {\n",
       "        vertical-align: top;\n",
       "    }\n",
       "\n",
       "    .dataframe thead th {\n",
       "        text-align: right;\n",
       "    }\n",
       "</style>\n",
       "<table border=\"1\" class=\"dataframe\">\n",
       "  <thead>\n",
       "    <tr style=\"text-align: right;\">\n",
       "      <th></th>\n",
       "      <th>year</th>\n",
       "      <th>exporter</th>\n",
       "      <th>importer</th>\n",
       "      <th>product_code</th>\n",
       "      <th>value</th>\n",
       "      <th>quantity</th>\n",
       "    </tr>\n",
       "  </thead>\n",
       "  <tbody>\n",
       "    <tr>\n",
       "      <th>0</th>\n",
       "      <td>2023</td>\n",
       "      <td>AFG</td>\n",
       "      <td>AND</td>\n",
       "      <td>200290</td>\n",
       "      <td>8.013</td>\n",
       "      <td>5.83</td>\n",
       "    </tr>\n",
       "    <tr>\n",
       "      <th>1</th>\n",
       "      <td>2023</td>\n",
       "      <td>AFG</td>\n",
       "      <td>AZE</td>\n",
       "      <td>252620</td>\n",
       "      <td>9.808</td>\n",
       "      <td>77.150002</td>\n",
       "    </tr>\n",
       "    <tr>\n",
       "      <th>2</th>\n",
       "      <td>2023</td>\n",
       "      <td>AFG</td>\n",
       "      <td>AZE</td>\n",
       "      <td>680221</td>\n",
       "      <td>33.787998</td>\n",
       "      <td>76.654999</td>\n",
       "    </tr>\n",
       "    <tr>\n",
       "      <th>3</th>\n",
       "      <td>2023</td>\n",
       "      <td>AFG</td>\n",
       "      <td>AZE</td>\n",
       "      <td>761510</td>\n",
       "      <td>6.604</td>\n",
       "      <td>2.368</td>\n",
       "    </tr>\n",
       "    <tr>\n",
       "      <th>4</th>\n",
       "      <td>2023</td>\n",
       "      <td>AFG</td>\n",
       "      <td>AZE</td>\n",
       "      <td>860900</td>\n",
       "      <td>1.5</td>\n",
       "      <td>2.2</td>\n",
       "    </tr>\n",
       "  </tbody>\n",
       "</table>\n",
       "</div>"
      ]
     },
     "execution_count": 3,
     "metadata": {},
     "output_type": "execute_result"
    }
   ],
   "execution_count": 3
  },
  {
   "metadata": {},
   "cell_type": "markdown",
   "source": "The traded amounts are specified in columns `value` (current thousand USD) and `quantity` (metric tons).\n",
   "id": "e8970a8bdddf0198"
  },
  {
   "metadata": {},
   "cell_type": "markdown",
   "source": "A dictionary that maps HS codes to product desriptions is available with:",
   "id": "7925e01da52a4450"
  },
  {
   "metadata": {
    "ExecuteTime": {
     "end_time": "2025-05-06T13:36:35.088725Z",
     "start_time": "2025-05-06T13:36:35.087139Z"
    }
   },
   "cell_type": "code",
   "source": "hs_map = baci.get_hs_map()",
   "id": "b518ec6bed884f6c",
   "outputs": [],
   "execution_count": 4
  },
  {
   "metadata": {},
   "cell_type": "markdown",
   "source": "To access metadata from a BACI object:",
   "id": "597db5efe2c921d6"
  },
  {
   "metadata": {
    "ExecuteTime": {
     "end_time": "2025-05-06T13:36:35.169767Z",
     "start_time": "2025-05-06T13:36:35.166873Z"
    }
   },
   "cell_type": "code",
   "source": "metadata = baci.get_metadata()",
   "id": "5587aa22c31e98ef",
   "outputs": [],
   "execution_count": 5
  },
  {
   "metadata": {},
   "cell_type": "markdown",
   "source": "The data and metadata are cached to avoid loading the dataset again. User the `clear_cache()` method to delete this data. You can set clear_disk = True to delete the local directory where the BACI data was saver (defaults to False).",
   "id": "cea4075ad0080c25"
  },
  {
   "metadata": {
    "ExecuteTime": {
     "end_time": "2025-05-06T13:36:35.204415Z",
     "start_time": "2025-05-06T13:36:35.202060Z"
    }
   },
   "cell_type": "code",
   "source": "baci.clear_cache(clear_disk=True)",
   "id": "49fe45d0a54e514a",
   "outputs": [
    {
     "name": "stderr",
     "output_type": "stream",
     "text": [
      "INFO: Cache cleared\n"
     ]
    }
   ],
   "execution_count": 6
  }
 ],
 "metadata": {
  "kernelspec": {
   "display_name": "Python 3",
   "language": "python",
   "name": "python3"
  },
  "language_info": {
   "codemirror_mode": {
    "name": "ipython",
    "version": 2
   },
   "file_extension": ".py",
   "mimetype": "text/x-python",
   "name": "python",
   "nbconvert_exporter": "python",
   "pygments_lexer": "ipython2",
   "version": "2.7.6"
  }
 },
 "nbformat": 4,
 "nbformat_minor": 5
}
