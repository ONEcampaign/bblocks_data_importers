{
 "cells": [
  {
   "metadata": {},
   "cell_type": "markdown",
   "source": "# Human Development Index (HDI) Data Importer",
   "id": "785d0f3879888104"
  },
  {
   "metadata": {},
   "cell_type": "markdown",
   "source": "The `HumanDevelopmentIndex` class is used to access data for the Human Development Index (HDI)",
   "id": "fd9cb232216e7eab"
  },
  {
   "metadata": {},
   "cell_type": "markdown",
   "source": "### Basic Usage",
   "id": "91d616c229cb2db7"
  },
  {
   "metadata": {
    "ExecuteTime": {
     "end_time": "2025-04-05T14:02:52.246366Z",
     "start_time": "2025-04-05T14:02:51.842773Z"
    }
   },
   "cell_type": "code",
   "source": "from bblocks.data_importers import HumanDevelopmentIndex",
   "id": "9947fbde2e788f73",
   "outputs": [],
   "execution_count": 3
  },
  {
   "metadata": {
    "ExecuteTime": {
     "end_time": "2025-04-05T14:03:08.340817Z",
     "start_time": "2025-04-05T14:03:08.336047Z"
    }
   },
   "cell_type": "code",
   "source": "hdi = HumanDevelopmentIndex()",
   "id": "f1d59e20a80c9bc5",
   "outputs": [],
   "execution_count": 4
  },
  {
   "metadata": {},
   "cell_type": "markdown",
   "source": "Get the latest data",
   "id": "c9a7a18925bb610c"
  },
  {
   "metadata": {
    "ExecuteTime": {
     "end_time": "2025-04-05T14:03:50.318419Z",
     "start_time": "2025-04-05T14:03:49.641066Z"
    }
   },
   "cell_type": "code",
   "source": [
    "df = hdi.get_data()\n",
    "df.head()"
   ],
   "id": "e33cd76664880e25",
   "outputs": [
    {
     "name": "stderr",
     "output_type": "stream",
     "text": [
      "INFO: Extracting HDI data\n",
      "INFO: Extracting HDI metadata\n"
     ]
    },
    {
     "data": {
      "text/plain": [
       "  entity_code  entity_name region_code  hdi_group indicator_code  value  year  \\\n",
       "0         AFG  Afghanistan          SA        Low       hdi_rank  182.0  2022   \n",
       "1         ALB      Albania         ECA       High       hdi_rank   74.0  2022   \n",
       "2         DZA      Algeria          AS       High       hdi_rank   93.0  2022   \n",
       "3         AND      Andorra        <NA>  Very High       hdi_rank   35.0  2022   \n",
       "4         AGO       Angola         SSA     Medium       hdi_rank  150.0  2022   \n",
       "\n",
       "  indicator_name  \n",
       "0       HDI Rank  \n",
       "1       HDI Rank  \n",
       "2       HDI Rank  \n",
       "3       HDI Rank  \n",
       "4       HDI Rank  "
      ],
      "text/html": [
       "<div>\n",
       "<style scoped>\n",
       "    .dataframe tbody tr th:only-of-type {\n",
       "        vertical-align: middle;\n",
       "    }\n",
       "\n",
       "    .dataframe tbody tr th {\n",
       "        vertical-align: top;\n",
       "    }\n",
       "\n",
       "    .dataframe thead th {\n",
       "        text-align: right;\n",
       "    }\n",
       "</style>\n",
       "<table border=\"1\" class=\"dataframe\">\n",
       "  <thead>\n",
       "    <tr style=\"text-align: right;\">\n",
       "      <th></th>\n",
       "      <th>entity_code</th>\n",
       "      <th>entity_name</th>\n",
       "      <th>region_code</th>\n",
       "      <th>hdi_group</th>\n",
       "      <th>indicator_code</th>\n",
       "      <th>value</th>\n",
       "      <th>year</th>\n",
       "      <th>indicator_name</th>\n",
       "    </tr>\n",
       "  </thead>\n",
       "  <tbody>\n",
       "    <tr>\n",
       "      <th>0</th>\n",
       "      <td>AFG</td>\n",
       "      <td>Afghanistan</td>\n",
       "      <td>SA</td>\n",
       "      <td>Low</td>\n",
       "      <td>hdi_rank</td>\n",
       "      <td>182.0</td>\n",
       "      <td>2022</td>\n",
       "      <td>HDI Rank</td>\n",
       "    </tr>\n",
       "    <tr>\n",
       "      <th>1</th>\n",
       "      <td>ALB</td>\n",
       "      <td>Albania</td>\n",
       "      <td>ECA</td>\n",
       "      <td>High</td>\n",
       "      <td>hdi_rank</td>\n",
       "      <td>74.0</td>\n",
       "      <td>2022</td>\n",
       "      <td>HDI Rank</td>\n",
       "    </tr>\n",
       "    <tr>\n",
       "      <th>2</th>\n",
       "      <td>DZA</td>\n",
       "      <td>Algeria</td>\n",
       "      <td>AS</td>\n",
       "      <td>High</td>\n",
       "      <td>hdi_rank</td>\n",
       "      <td>93.0</td>\n",
       "      <td>2022</td>\n",
       "      <td>HDI Rank</td>\n",
       "    </tr>\n",
       "    <tr>\n",
       "      <th>3</th>\n",
       "      <td>AND</td>\n",
       "      <td>Andorra</td>\n",
       "      <td>&lt;NA&gt;</td>\n",
       "      <td>Very High</td>\n",
       "      <td>hdi_rank</td>\n",
       "      <td>35.0</td>\n",
       "      <td>2022</td>\n",
       "      <td>HDI Rank</td>\n",
       "    </tr>\n",
       "    <tr>\n",
       "      <th>4</th>\n",
       "      <td>AGO</td>\n",
       "      <td>Angola</td>\n",
       "      <td>SSA</td>\n",
       "      <td>Medium</td>\n",
       "      <td>hdi_rank</td>\n",
       "      <td>150.0</td>\n",
       "      <td>2022</td>\n",
       "      <td>HDI Rank</td>\n",
       "    </tr>\n",
       "  </tbody>\n",
       "</table>\n",
       "</div>"
      ]
     },
     "execution_count": 5,
     "metadata": {},
     "output_type": "execute_result"
    }
   ],
   "execution_count": 5
  },
  {
   "metadata": {},
   "cell_type": "markdown",
   "source": "Get the metadata",
   "id": "6f1239ef191a88c4"
  },
  {
   "metadata": {
    "ExecuteTime": {
     "end_time": "2025-04-05T14:04:15.153399Z",
     "start_time": "2025-04-05T14:04:15.144627Z"
    }
   },
   "cell_type": "code",
   "source": [
    "meta_df = hdi.get_metadata()\n",
    "meta_df.head()"
   ],
   "id": "54245bb78d857115",
   "outputs": [
    {
     "data": {
      "text/plain": [
       "             indicator_name indicator_code time_range notes\n",
       "0                      ISO3           iso3          -  <NA>\n",
       "1          HDR Country Name        country          -  <NA>\n",
       "2  Human Development Groups        hdicode          -  <NA>\n",
       "3  UNDP Developeing Regions         region          -  <NA>\n",
       "5                  HDI Rank       hdi_rank       2022  <NA>"
      ],
      "text/html": [
       "<div>\n",
       "<style scoped>\n",
       "    .dataframe tbody tr th:only-of-type {\n",
       "        vertical-align: middle;\n",
       "    }\n",
       "\n",
       "    .dataframe tbody tr th {\n",
       "        vertical-align: top;\n",
       "    }\n",
       "\n",
       "    .dataframe thead th {\n",
       "        text-align: right;\n",
       "    }\n",
       "</style>\n",
       "<table border=\"1\" class=\"dataframe\">\n",
       "  <thead>\n",
       "    <tr style=\"text-align: right;\">\n",
       "      <th></th>\n",
       "      <th>indicator_name</th>\n",
       "      <th>indicator_code</th>\n",
       "      <th>time_range</th>\n",
       "      <th>notes</th>\n",
       "    </tr>\n",
       "  </thead>\n",
       "  <tbody>\n",
       "    <tr>\n",
       "      <th>0</th>\n",
       "      <td>ISO3</td>\n",
       "      <td>iso3</td>\n",
       "      <td>-</td>\n",
       "      <td>&lt;NA&gt;</td>\n",
       "    </tr>\n",
       "    <tr>\n",
       "      <th>1</th>\n",
       "      <td>HDR Country Name</td>\n",
       "      <td>country</td>\n",
       "      <td>-</td>\n",
       "      <td>&lt;NA&gt;</td>\n",
       "    </tr>\n",
       "    <tr>\n",
       "      <th>2</th>\n",
       "      <td>Human Development Groups</td>\n",
       "      <td>hdicode</td>\n",
       "      <td>-</td>\n",
       "      <td>&lt;NA&gt;</td>\n",
       "    </tr>\n",
       "    <tr>\n",
       "      <th>3</th>\n",
       "      <td>UNDP Developeing Regions</td>\n",
       "      <td>region</td>\n",
       "      <td>-</td>\n",
       "      <td>&lt;NA&gt;</td>\n",
       "    </tr>\n",
       "    <tr>\n",
       "      <th>5</th>\n",
       "      <td>HDI Rank</td>\n",
       "      <td>hdi_rank</td>\n",
       "      <td>2022</td>\n",
       "      <td>&lt;NA&gt;</td>\n",
       "    </tr>\n",
       "  </tbody>\n",
       "</table>\n",
       "</div>"
      ]
     },
     "execution_count": 7,
     "metadata": {},
     "output_type": "execute_result"
    }
   ],
   "execution_count": 7
  },
  {
   "metadata": {},
   "cell_type": "markdown",
   "source": "Clear the cache",
   "id": "312de420d897a06b"
  },
  {
   "metadata": {
    "ExecuteTime": {
     "end_time": "2025-04-05T14:04:43.932888Z",
     "start_time": "2025-04-05T14:04:43.926956Z"
    }
   },
   "cell_type": "code",
   "source": "hdi.clear_cache()",
   "id": "5a1ac1e77d4922e0",
   "outputs": [
    {
     "name": "stderr",
     "output_type": "stream",
     "text": [
      "INFO: Cache cleared\n"
     ]
    }
   ],
   "execution_count": 8
  },
  {
   "metadata": {},
   "cell_type": "code",
   "outputs": [],
   "execution_count": null,
   "source": "",
   "id": "53bda968f9dd0ea2"
  }
 ],
 "metadata": {
  "kernelspec": {
   "display_name": "Python 3",
   "language": "python",
   "name": "python3"
  },
  "language_info": {
   "codemirror_mode": {
    "name": "ipython",
    "version": 2
   },
   "file_extension": ".py",
   "mimetype": "text/x-python",
   "name": "python",
   "nbconvert_exporter": "python",
   "pygments_lexer": "ipython2",
   "version": "2.7.6"
  }
 },
 "nbformat": 4,
 "nbformat_minor": 5
}
