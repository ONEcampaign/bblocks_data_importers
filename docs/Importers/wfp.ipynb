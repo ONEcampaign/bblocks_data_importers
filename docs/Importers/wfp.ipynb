{
 "cells": [
  {
   "cell_type": "markdown",
   "id": "737464e0-bc3e-4788-943e-47f4233c24b3",
   "metadata": {},
   "source": [
    "# WFP Importer\n",
    "\n",
    "The `WFP` importer is used to import data from the Inflation and Food Security data from the Wolrd Food Program (WFP) databases."
   ]
  },
  {
   "cell_type": "markdown",
   "id": "66a9e838-b7fd-46d8-9c2b-b8bf9885f83f",
   "metadata": {},
   "source": [
    "### Basic Usage"
   ]
  },
  {
   "cell_type": "code",
   "execution_count": 1,
   "id": "79be87db-a2ed-4072-b9bd-c312c1f19a14",
   "metadata": {},
   "outputs": [],
   "source": [
    "import bblocks_data_importers as bbdata"
   ]
  },
  {
   "cell_type": "markdown",
   "id": "4f3a9f3d-97a1-446d-88f8-9fce99245f7c",
   "metadata": {},
   "source": [
    "#### Inflation data"
   ]
  },
  {
   "cell_type": "markdown",
   "id": "03d3e267-a1f0-4243-8651-3251c8ab4069",
   "metadata": {},
   "source": [
    "You can access inflation data for a single or a list of indicators and countries (as ISO3 codes). If no arguments are specified, the `get_data` method will retrieve data for all indicators and countries available."
   ]
  },
  {
   "cell_type": "code",
   "execution_count": 2,
   "id": "159fb761-0fae-4615-b2a7-81022ae40168",
   "metadata": {},
   "outputs": [
    {
     "name": "stderr",
     "output_type": "stream",
     "text": [
      "INFO: Importing available country IDs ...\n",
      "INFO: Importing data for indicator: Headline inflation (YoY) ...\n",
      "INFO: Data imported successfully for indicator: Headline inflation (YoY)\n"
     ]
    },
    {
     "data": {
      "text/html": [
       "<div>\n",
       "<style scoped>\n",
       "    .dataframe tbody tr th:only-of-type {\n",
       "        vertical-align: middle;\n",
       "    }\n",
       "\n",
       "    .dataframe tbody tr th {\n",
       "        vertical-align: top;\n",
       "    }\n",
       "\n",
       "    .dataframe thead th {\n",
       "        text-align: right;\n",
       "    }\n",
       "</style>\n",
       "<table border=\"1\" class=\"dataframe\">\n",
       "  <thead>\n",
       "    <tr style=\"text-align: right;\">\n",
       "      <th></th>\n",
       "      <th>date</th>\n",
       "      <th>value</th>\n",
       "      <th>source</th>\n",
       "      <th>indicator_name</th>\n",
       "      <th>iso3_code</th>\n",
       "      <th>country_name</th>\n",
       "      <th>unit</th>\n",
       "    </tr>\n",
       "  </thead>\n",
       "  <tbody>\n",
       "    <tr>\n",
       "      <th>0</th>\n",
       "      <td>2024-10-31 00:00:00</td>\n",
       "      <td>2.7</td>\n",
       "      <td>Trading Economics</td>\n",
       "      <td>Headline inflation (YoY)</td>\n",
       "      <td>KEN</td>\n",
       "      <td>Kenya</td>\n",
       "      <td>percent</td>\n",
       "    </tr>\n",
       "    <tr>\n",
       "      <th>1</th>\n",
       "      <td>2024-09-30 00:00:00</td>\n",
       "      <td>3.6</td>\n",
       "      <td>Trading Economics</td>\n",
       "      <td>Headline inflation (YoY)</td>\n",
       "      <td>KEN</td>\n",
       "      <td>Kenya</td>\n",
       "      <td>percent</td>\n",
       "    </tr>\n",
       "    <tr>\n",
       "      <th>2</th>\n",
       "      <td>2024-08-31 00:00:00</td>\n",
       "      <td>4.4</td>\n",
       "      <td>Trading Economics</td>\n",
       "      <td>Headline inflation (YoY)</td>\n",
       "      <td>KEN</td>\n",
       "      <td>Kenya</td>\n",
       "      <td>percent</td>\n",
       "    </tr>\n",
       "    <tr>\n",
       "      <th>3</th>\n",
       "      <td>2024-07-31 00:00:00</td>\n",
       "      <td>4.3</td>\n",
       "      <td>Trading Economics</td>\n",
       "      <td>Headline inflation (YoY)</td>\n",
       "      <td>KEN</td>\n",
       "      <td>Kenya</td>\n",
       "      <td>percent</td>\n",
       "    </tr>\n",
       "    <tr>\n",
       "      <th>4</th>\n",
       "      <td>2024-06-30 00:00:00</td>\n",
       "      <td>4.6</td>\n",
       "      <td>Trading Economics</td>\n",
       "      <td>Headline inflation (YoY)</td>\n",
       "      <td>KEN</td>\n",
       "      <td>Kenya</td>\n",
       "      <td>percent</td>\n",
       "    </tr>\n",
       "  </tbody>\n",
       "</table>\n",
       "</div>"
      ],
      "text/plain": [
       "                  date  value             source            indicator_name  \\\n",
       "0  2024-10-31 00:00:00    2.7  Trading Economics  Headline inflation (YoY)   \n",
       "1  2024-09-30 00:00:00    3.6  Trading Economics  Headline inflation (YoY)   \n",
       "2  2024-08-31 00:00:00    4.4  Trading Economics  Headline inflation (YoY)   \n",
       "3  2024-07-31 00:00:00    4.3  Trading Economics  Headline inflation (YoY)   \n",
       "4  2024-06-30 00:00:00    4.6  Trading Economics  Headline inflation (YoY)   \n",
       "\n",
       "  iso3_code country_name     unit  \n",
       "0       KEN        Kenya  percent  \n",
       "1       KEN        Kenya  percent  \n",
       "2       KEN        Kenya  percent  \n",
       "3       KEN        Kenya  percent  \n",
       "4       KEN        Kenya  percent  "
      ]
     },
     "execution_count": 2,
     "metadata": {},
     "output_type": "execute_result"
    }
   ],
   "source": [
    "wfp_infl = bbdata.WFPInflation() # initialize the WFPInflation importer\n",
    "# wfp_infl.available_indicators # to see available indicators\n",
    "df_infl = wfp_infl.get_data(indicators=\"Headline inflation (YoY)\", countries=[\"KEN\", \"UGA\"]) # get the data as a pandas DataFrame\n",
    "\n",
    "df_infl.head()"
   ]
  },
  {
   "cell_type": "markdown",
   "id": "e51abbc5-bb3d-4ee5-91db-b121646ba960",
   "metadata": {},
   "source": [
    "#### Food Security data"
   ]
  },
  {
   "cell_type": "markdown",
   "id": "94bbbb31-01c4-4f38-a808-d46f543af071",
   "metadata": {},
   "source": [
    "You can retrieve food security data for a single or a list of countries (as ISO3 codes). By default, the resulting data will be at the national level, but you may get data at the subnational level by specifying `level=\"subnational\"`."
   ]
  },
  {
   "cell_type": "code",
   "execution_count": 3,
   "id": "fe39dbfc-3b10-473d-99a5-d068dddceea4",
   "metadata": {},
   "outputs": [
    {
     "name": "stderr",
     "output_type": "stream",
     "text": [
      "INFO: Importing subnational data\n",
      "INFO: Importing subnational data for country - KEN ...\n",
      "INFO: Importing subnational data for country - UGA ...\n",
      "INFO: Subnational data imported successfully\n"
     ]
    },
    {
     "data": {
      "text/html": [
       "<div>\n",
       "<style scoped>\n",
       "    .dataframe tbody tr th:only-of-type {\n",
       "        vertical-align: middle;\n",
       "    }\n",
       "\n",
       "    .dataframe tbody tr th {\n",
       "        vertical-align: top;\n",
       "    }\n",
       "\n",
       "    .dataframe thead th {\n",
       "        text-align: right;\n",
       "    }\n",
       "</style>\n",
       "<table border=\"1\" class=\"dataframe\">\n",
       "  <thead>\n",
       "    <tr style=\"text-align: right;\">\n",
       "      <th></th>\n",
       "      <th>date</th>\n",
       "      <th>value</th>\n",
       "      <th>value_upper</th>\n",
       "      <th>value_lower</th>\n",
       "      <th>region_name</th>\n",
       "      <th>iso3_code</th>\n",
       "      <th>country_name</th>\n",
       "      <th>indicator_name</th>\n",
       "      <th>source</th>\n",
       "    </tr>\n",
       "  </thead>\n",
       "  <tbody>\n",
       "    <tr>\n",
       "      <th>0</th>\n",
       "      <td>2023-10-16 00:00:00</td>\n",
       "      <td>1865166</td>\n",
       "      <td>1865166</td>\n",
       "      <td>1865166</td>\n",
       "      <td>Eastern</td>\n",
       "      <td>KEN</td>\n",
       "      <td>Kenya</td>\n",
       "      <td>people with insufficient food consumption</td>\n",
       "      <td>World Food Programme</td>\n",
       "    </tr>\n",
       "    <tr>\n",
       "      <th>1</th>\n",
       "      <td>2023-10-17 00:00:00</td>\n",
       "      <td>1850322</td>\n",
       "      <td>1850322</td>\n",
       "      <td>1850322</td>\n",
       "      <td>Eastern</td>\n",
       "      <td>KEN</td>\n",
       "      <td>Kenya</td>\n",
       "      <td>people with insufficient food consumption</td>\n",
       "      <td>World Food Programme</td>\n",
       "    </tr>\n",
       "    <tr>\n",
       "      <th>2</th>\n",
       "      <td>2023-10-18 00:00:00</td>\n",
       "      <td>1947947</td>\n",
       "      <td>1947947</td>\n",
       "      <td>1947947</td>\n",
       "      <td>Eastern</td>\n",
       "      <td>KEN</td>\n",
       "      <td>Kenya</td>\n",
       "      <td>people with insufficient food consumption</td>\n",
       "      <td>World Food Programme</td>\n",
       "    </tr>\n",
       "    <tr>\n",
       "      <th>3</th>\n",
       "      <td>2023-10-19 00:00:00</td>\n",
       "      <td>1916714</td>\n",
       "      <td>1916714</td>\n",
       "      <td>1916714</td>\n",
       "      <td>Eastern</td>\n",
       "      <td>KEN</td>\n",
       "      <td>Kenya</td>\n",
       "      <td>people with insufficient food consumption</td>\n",
       "      <td>World Food Programme</td>\n",
       "    </tr>\n",
       "    <tr>\n",
       "      <th>4</th>\n",
       "      <td>2023-10-20 00:00:00</td>\n",
       "      <td>1783513</td>\n",
       "      <td>1783513</td>\n",
       "      <td>1783513</td>\n",
       "      <td>Eastern</td>\n",
       "      <td>KEN</td>\n",
       "      <td>Kenya</td>\n",
       "      <td>people with insufficient food consumption</td>\n",
       "      <td>World Food Programme</td>\n",
       "    </tr>\n",
       "  </tbody>\n",
       "</table>\n",
       "</div>"
      ],
      "text/plain": [
       "                  date    value  value_upper  value_lower region_name  \\\n",
       "0  2023-10-16 00:00:00  1865166      1865166      1865166     Eastern   \n",
       "1  2023-10-17 00:00:00  1850322      1850322      1850322     Eastern   \n",
       "2  2023-10-18 00:00:00  1947947      1947947      1947947     Eastern   \n",
       "3  2023-10-19 00:00:00  1916714      1916714      1916714     Eastern   \n",
       "4  2023-10-20 00:00:00  1783513      1783513      1783513     Eastern   \n",
       "\n",
       "  iso3_code country_name                             indicator_name  \\\n",
       "0       KEN        Kenya  people with insufficient food consumption   \n",
       "1       KEN        Kenya  people with insufficient food consumption   \n",
       "2       KEN        Kenya  people with insufficient food consumption   \n",
       "3       KEN        Kenya  people with insufficient food consumption   \n",
       "4       KEN        Kenya  people with insufficient food consumption   \n",
       "\n",
       "                 source  \n",
       "0  World Food Programme  \n",
       "1  World Food Programme  \n",
       "2  World Food Programme  \n",
       "3  World Food Programme  \n",
       "4  World Food Programme  "
      ]
     },
     "execution_count": 3,
     "metadata": {},
     "output_type": "execute_result"
    }
   ],
   "source": [
    "wfp_fs = bbdata.WFPFoodSecurity() # initialize the WFPFoodSecurity importer\\\n",
    "# wfp_fs.available_countries # to see available countries\n",
    "df_fs = wfp_fs.get_data(countries=[\"KEN\", \"UGA\"], level=\"subnational\") # get the data as a pandas DataFrame\n",
    "\n",
    "df_fs.head()"
   ]
  },
  {
   "cell_type": "markdown",
   "id": "0dca9039-a1cb-40cd-8e46-ae79819e44d8",
   "metadata": {},
   "source": [
    "The imported data is cached in the object to avoid repeated downloads. At any time you can clear the cache by calling the `clear_cache` method."
   ]
  },
  {
   "cell_type": "code",
   "execution_count": 4,
   "id": "884a2e0b-20ff-406f-bd46-9340309f7266",
   "metadata": {},
   "outputs": [
    {
     "name": "stderr",
     "output_type": "stream",
     "text": [
      "INFO: Cache cleared\n",
      "INFO: Cache cleared\n"
     ]
    }
   ],
   "source": [
    "wfp_infl.clear_cache()\n",
    "wfp_fs.clear_cache()"
   ]
  }
 ],
 "metadata": {
  "kernelspec": {
   "display_name": "Python 3 (ipykernel)",
   "language": "python",
   "name": "python3"
  },
  "language_info": {
   "codemirror_mode": {
    "name": "ipython",
    "version": 3
   },
   "file_extension": ".py",
   "mimetype": "text/x-python",
   "name": "python",
   "nbconvert_exporter": "python",
   "pygments_lexer": "ipython3",
   "version": "3.10.15"
  }
 },
 "nbformat": 4,
 "nbformat_minor": 5
}
