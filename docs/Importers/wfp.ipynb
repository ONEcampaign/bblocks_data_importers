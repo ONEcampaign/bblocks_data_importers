{
 "cells": [
  {
   "cell_type": "markdown",
   "id": "737464e0-bc3e-4788-943e-47f4233c24b3",
   "metadata": {},
   "source": [
    "# WFP Importer\n",
    "\n",
    "The `WFP` importer is used to import inflation and food security data from the World Food Program (WFP).\n",
    "\n",
    "Inflation data is collected from Trading Economics and is made available on the WFP [economic explorer](https://dataviz.vam.wfp.org/economic/inflation?current_page=1). Food security data is collected from the WFP VAM [HungerMapLive tool](https://hungermap.wfp.org/)."
   ]
  },
  {
   "cell_type": "markdown",
   "id": "66a9e838-b7fd-46d8-9c2b-b8bf9885f83f",
   "metadata": {},
   "source": [
    "### Basic Usage"
   ]
  },
  {
   "cell_type": "code",
   "id": "79be87db-a2ed-4072-b9bd-c312c1f19a14",
   "metadata": {
    "ExecuteTime": {
     "end_time": "2024-11-22T09:36:35.253374Z",
     "start_time": "2024-11-22T09:36:34.747642Z"
    }
   },
   "source": [
    "\n",
    "from bblocks import data_importers as bbdata"
   ],
   "outputs": [],
   "execution_count": 3
  },
  {
   "cell_type": "markdown",
   "id": "4f3a9f3d-97a1-446d-88f8-9fce99245f7c",
   "metadata": {},
   "source": [
    "#### Inflation data"
   ]
  },
  {
   "cell_type": "markdown",
   "id": "03d3e267-a1f0-4243-8651-3251c8ab4069",
   "metadata": {},
   "source": "You can access inflation data for a single or a list of indicators and countries. If no arguments are specified, the `get_data` method will retrieve data for all indicators and countries available."
  },
  {
   "cell_type": "code",
   "id": "159fb761-0fae-4615-b2a7-81022ae40168",
   "metadata": {
    "ExecuteTime": {
     "end_time": "2024-11-22T09:36:47.827609Z",
     "start_time": "2024-11-22T09:36:36.207229Z"
    }
   },
   "source": [
    "wfp_infl = bbdata.WFPInflation() # initialize the WFPInflation importer\n",
    "df_infl = wfp_infl.get_data(indicators=\"Headline inflation (YoY)\", countries=[\"KEN\", \"UGA\"]) # get the data as a pandas DataFrame\n",
    "\n",
    "df_infl.head()"
   ],
   "outputs": [
    {
     "name": "stderr",
     "output_type": "stream",
     "text": [
      "INFO: Importing available country IDs ...\n",
      "INFO: Importing data for indicator: Headline inflation (YoY) ...\n",
      "INFO: Data imported successfully for indicator: Headline inflation (YoY)\n"
     ]
    },
    {
     "data": {
      "text/plain": [
       "                  date  value             source            indicator_name  \\\n",
       "0  2024-10-31 00:00:00    2.7  Trading Economics  Headline inflation (YoY)   \n",
       "1  2024-09-30 00:00:00    3.6  Trading Economics  Headline inflation (YoY)   \n",
       "2  2024-08-31 00:00:00    4.4  Trading Economics  Headline inflation (YoY)   \n",
       "3  2024-07-31 00:00:00    4.3  Trading Economics  Headline inflation (YoY)   \n",
       "4  2024-06-30 00:00:00    4.6  Trading Economics  Headline inflation (YoY)   \n",
       "\n",
       "  iso3_code country_name     unit  \n",
       "0       KEN        Kenya  percent  \n",
       "1       KEN        Kenya  percent  \n",
       "2       KEN        Kenya  percent  \n",
       "3       KEN        Kenya  percent  \n",
       "4       KEN        Kenya  percent  "
      ],
      "text/html": [
       "<div>\n",
       "<style scoped>\n",
       "    .dataframe tbody tr th:only-of-type {\n",
       "        vertical-align: middle;\n",
       "    }\n",
       "\n",
       "    .dataframe tbody tr th {\n",
       "        vertical-align: top;\n",
       "    }\n",
       "\n",
       "    .dataframe thead th {\n",
       "        text-align: right;\n",
       "    }\n",
       "</style>\n",
       "<table border=\"1\" class=\"dataframe\">\n",
       "  <thead>\n",
       "    <tr style=\"text-align: right;\">\n",
       "      <th></th>\n",
       "      <th>date</th>\n",
       "      <th>value</th>\n",
       "      <th>source</th>\n",
       "      <th>indicator_name</th>\n",
       "      <th>iso3_code</th>\n",
       "      <th>country_name</th>\n",
       "      <th>unit</th>\n",
       "    </tr>\n",
       "  </thead>\n",
       "  <tbody>\n",
       "    <tr>\n",
       "      <th>0</th>\n",
       "      <td>2024-10-31 00:00:00</td>\n",
       "      <td>2.7</td>\n",
       "      <td>Trading Economics</td>\n",
       "      <td>Headline inflation (YoY)</td>\n",
       "      <td>KEN</td>\n",
       "      <td>Kenya</td>\n",
       "      <td>percent</td>\n",
       "    </tr>\n",
       "    <tr>\n",
       "      <th>1</th>\n",
       "      <td>2024-09-30 00:00:00</td>\n",
       "      <td>3.6</td>\n",
       "      <td>Trading Economics</td>\n",
       "      <td>Headline inflation (YoY)</td>\n",
       "      <td>KEN</td>\n",
       "      <td>Kenya</td>\n",
       "      <td>percent</td>\n",
       "    </tr>\n",
       "    <tr>\n",
       "      <th>2</th>\n",
       "      <td>2024-08-31 00:00:00</td>\n",
       "      <td>4.4</td>\n",
       "      <td>Trading Economics</td>\n",
       "      <td>Headline inflation (YoY)</td>\n",
       "      <td>KEN</td>\n",
       "      <td>Kenya</td>\n",
       "      <td>percent</td>\n",
       "    </tr>\n",
       "    <tr>\n",
       "      <th>3</th>\n",
       "      <td>2024-07-31 00:00:00</td>\n",
       "      <td>4.3</td>\n",
       "      <td>Trading Economics</td>\n",
       "      <td>Headline inflation (YoY)</td>\n",
       "      <td>KEN</td>\n",
       "      <td>Kenya</td>\n",
       "      <td>percent</td>\n",
       "    </tr>\n",
       "    <tr>\n",
       "      <th>4</th>\n",
       "      <td>2024-06-30 00:00:00</td>\n",
       "      <td>4.6</td>\n",
       "      <td>Trading Economics</td>\n",
       "      <td>Headline inflation (YoY)</td>\n",
       "      <td>KEN</td>\n",
       "      <td>Kenya</td>\n",
       "      <td>percent</td>\n",
       "    </tr>\n",
       "  </tbody>\n",
       "</table>\n",
       "</div>"
      ]
     },
     "execution_count": 4,
     "metadata": {},
     "output_type": "execute_result"
    }
   ],
   "execution_count": 4
  },
  {
   "metadata": {},
   "cell_type": "markdown",
   "source": "To see all available inflation indicators, you can call the `available_indicators` attribute.",
   "id": "5c9f9565b4e386f1"
  },
  {
   "metadata": {
    "ExecuteTime": {
     "end_time": "2024-11-22T09:37:05.967650Z",
     "start_time": "2024-11-22T09:37:05.963456Z"
    }
   },
   "cell_type": "code",
   "source": "wfp_infl.available_indicators # see available indicators",
   "id": "76645b55e7516f0",
   "outputs": [
    {
     "data": {
      "text/plain": [
       "['Headline inflation (YoY)', 'Headline inflation (MoM)', 'Food inflation']"
      ]
     },
     "execution_count": 7,
     "metadata": {},
     "output_type": "execute_result"
    }
   ],
   "execution_count": 7
  },
  {
   "cell_type": "markdown",
   "id": "e51abbc5-bb3d-4ee5-91db-b121646ba960",
   "metadata": {},
   "source": [
    "#### Food Security data"
   ]
  },
  {
   "cell_type": "markdown",
   "id": "94bbbb31-01c4-4f38-a808-d46f543af071",
   "metadata": {},
   "source": [
    "You can retrieve food security data for a single or a list of countries (as ISO3 codes). By default, the resulting data will be at the national level, but you may get data at the subnational level by specifying `level=\"subnational\"`."
   ]
  },
  {
   "cell_type": "code",
   "id": "fe39dbfc-3b10-473d-99a5-d068dddceea4",
   "metadata": {
    "ExecuteTime": {
     "end_time": "2024-11-22T09:47:15.319239Z",
     "start_time": "2024-11-22T09:47:11.839039Z"
    }
   },
   "source": [
    "wfp_fs = bbdata.WFPFoodSecurity() # initialize the WFPFoodSecurity importer\n",
    "df_fs = wfp_fs.get_data(countries=[\"KEN\", \"UGA\"]) # get the data as a pandas DataFrame\n",
    "\n",
    "df_fs.head()"
   ],
   "outputs": [
    {
     "name": "stderr",
     "output_type": "stream",
     "text": [
      "INFO: Importing national data\n",
      "INFO: Importing national data for country - KEN ...\n",
      "INFO: Importing national data for country - UGA ...\n",
      "INFO: National data imported successfully\n"
     ]
    },
    {
     "data": {
      "text/plain": [
       "                  date     value  value_upper  value_lower iso3_code  \\\n",
       "0  2023-10-16 00:00:00  12969560     12969560     12969560       KEN   \n",
       "1  2023-10-17 00:00:00  13440933     13440933     13440933       KEN   \n",
       "2  2023-10-18 00:00:00  14104659     14104659     14104659       KEN   \n",
       "3  2023-10-19 00:00:00  13907041     13907041     13907041       KEN   \n",
       "4  2023-10-20 00:00:00  13795816     13795816     13795816       KEN   \n",
       "\n",
       "  country_name                             indicator_name  \\\n",
       "0        Kenya  people with insufficient food consumption   \n",
       "1        Kenya  people with insufficient food consumption   \n",
       "2        Kenya  people with insufficient food consumption   \n",
       "3        Kenya  people with insufficient food consumption   \n",
       "4        Kenya  people with insufficient food consumption   \n",
       "\n",
       "                 source  \n",
       "0  World Food Programme  \n",
       "1  World Food Programme  \n",
       "2  World Food Programme  \n",
       "3  World Food Programme  \n",
       "4  World Food Programme  "
      ],
      "text/html": [
       "<div>\n",
       "<style scoped>\n",
       "    .dataframe tbody tr th:only-of-type {\n",
       "        vertical-align: middle;\n",
       "    }\n",
       "\n",
       "    .dataframe tbody tr th {\n",
       "        vertical-align: top;\n",
       "    }\n",
       "\n",
       "    .dataframe thead th {\n",
       "        text-align: right;\n",
       "    }\n",
       "</style>\n",
       "<table border=\"1\" class=\"dataframe\">\n",
       "  <thead>\n",
       "    <tr style=\"text-align: right;\">\n",
       "      <th></th>\n",
       "      <th>date</th>\n",
       "      <th>value</th>\n",
       "      <th>value_upper</th>\n",
       "      <th>value_lower</th>\n",
       "      <th>iso3_code</th>\n",
       "      <th>country_name</th>\n",
       "      <th>indicator_name</th>\n",
       "      <th>source</th>\n",
       "    </tr>\n",
       "  </thead>\n",
       "  <tbody>\n",
       "    <tr>\n",
       "      <th>0</th>\n",
       "      <td>2023-10-16 00:00:00</td>\n",
       "      <td>12969560</td>\n",
       "      <td>12969560</td>\n",
       "      <td>12969560</td>\n",
       "      <td>KEN</td>\n",
       "      <td>Kenya</td>\n",
       "      <td>people with insufficient food consumption</td>\n",
       "      <td>World Food Programme</td>\n",
       "    </tr>\n",
       "    <tr>\n",
       "      <th>1</th>\n",
       "      <td>2023-10-17 00:00:00</td>\n",
       "      <td>13440933</td>\n",
       "      <td>13440933</td>\n",
       "      <td>13440933</td>\n",
       "      <td>KEN</td>\n",
       "      <td>Kenya</td>\n",
       "      <td>people with insufficient food consumption</td>\n",
       "      <td>World Food Programme</td>\n",
       "    </tr>\n",
       "    <tr>\n",
       "      <th>2</th>\n",
       "      <td>2023-10-18 00:00:00</td>\n",
       "      <td>14104659</td>\n",
       "      <td>14104659</td>\n",
       "      <td>14104659</td>\n",
       "      <td>KEN</td>\n",
       "      <td>Kenya</td>\n",
       "      <td>people with insufficient food consumption</td>\n",
       "      <td>World Food Programme</td>\n",
       "    </tr>\n",
       "    <tr>\n",
       "      <th>3</th>\n",
       "      <td>2023-10-19 00:00:00</td>\n",
       "      <td>13907041</td>\n",
       "      <td>13907041</td>\n",
       "      <td>13907041</td>\n",
       "      <td>KEN</td>\n",
       "      <td>Kenya</td>\n",
       "      <td>people with insufficient food consumption</td>\n",
       "      <td>World Food Programme</td>\n",
       "    </tr>\n",
       "    <tr>\n",
       "      <th>4</th>\n",
       "      <td>2023-10-20 00:00:00</td>\n",
       "      <td>13795816</td>\n",
       "      <td>13795816</td>\n",
       "      <td>13795816</td>\n",
       "      <td>KEN</td>\n",
       "      <td>Kenya</td>\n",
       "      <td>people with insufficient food consumption</td>\n",
       "      <td>World Food Programme</td>\n",
       "    </tr>\n",
       "  </tbody>\n",
       "</table>\n",
       "</div>"
      ]
     },
     "execution_count": 18,
     "metadata": {},
     "output_type": "execute_result"
    }
   ],
   "execution_count": 18
  },
  {
   "metadata": {},
   "cell_type": "markdown",
   "source": "By default, `get_data` will return national level data. Subnational data is also available by passing the `level=\"subnational\"` argument.",
   "id": "f19c57973347d01f"
  },
  {
   "metadata": {
    "ExecuteTime": {
     "end_time": "2024-11-22T09:47:11.813126Z",
     "start_time": "2024-11-22T09:46:56.662163Z"
    }
   },
   "cell_type": "code",
   "source": [
    "df_fs_subnational = wfp_fs.get_data(countries=[\"KEN\", \"UGA\"], level=\"subnational\") # get the data as a pandas DataFrame\n",
    "df_fs_subnational.head()"
   ],
   "id": "c1634496a6b09ad9",
   "outputs": [
    {
     "name": "stderr",
     "output_type": "stream",
     "text": [
      "INFO: Importing available country IDs ...\n",
      "INFO: Importing subnational data\n",
      "INFO: Importing subnational data for country - KEN ...\n",
      "INFO: Importing subnational data for country - UGA ...\n",
      "INFO: Subnational data imported successfully\n"
     ]
    },
    {
     "data": {
      "text/plain": [
       "                  date    value  value_upper  value_lower region_name  \\\n",
       "0  2023-10-16 00:00:00  1865166      1865166      1865166     Eastern   \n",
       "1  2023-10-17 00:00:00  1850322      1850322      1850322     Eastern   \n",
       "2  2023-10-18 00:00:00  1947947      1947947      1947947     Eastern   \n",
       "3  2023-10-19 00:00:00  1916714      1916714      1916714     Eastern   \n",
       "4  2023-10-20 00:00:00  1783513      1783513      1783513     Eastern   \n",
       "\n",
       "  iso3_code country_name                             indicator_name  \\\n",
       "0       KEN        Kenya  people with insufficient food consumption   \n",
       "1       KEN        Kenya  people with insufficient food consumption   \n",
       "2       KEN        Kenya  people with insufficient food consumption   \n",
       "3       KEN        Kenya  people with insufficient food consumption   \n",
       "4       KEN        Kenya  people with insufficient food consumption   \n",
       "\n",
       "                 source  \n",
       "0  World Food Programme  \n",
       "1  World Food Programme  \n",
       "2  World Food Programme  \n",
       "3  World Food Programme  \n",
       "4  World Food Programme  "
      ],
      "text/html": [
       "<div>\n",
       "<style scoped>\n",
       "    .dataframe tbody tr th:only-of-type {\n",
       "        vertical-align: middle;\n",
       "    }\n",
       "\n",
       "    .dataframe tbody tr th {\n",
       "        vertical-align: top;\n",
       "    }\n",
       "\n",
       "    .dataframe thead th {\n",
       "        text-align: right;\n",
       "    }\n",
       "</style>\n",
       "<table border=\"1\" class=\"dataframe\">\n",
       "  <thead>\n",
       "    <tr style=\"text-align: right;\">\n",
       "      <th></th>\n",
       "      <th>date</th>\n",
       "      <th>value</th>\n",
       "      <th>value_upper</th>\n",
       "      <th>value_lower</th>\n",
       "      <th>region_name</th>\n",
       "      <th>iso3_code</th>\n",
       "      <th>country_name</th>\n",
       "      <th>indicator_name</th>\n",
       "      <th>source</th>\n",
       "    </tr>\n",
       "  </thead>\n",
       "  <tbody>\n",
       "    <tr>\n",
       "      <th>0</th>\n",
       "      <td>2023-10-16 00:00:00</td>\n",
       "      <td>1865166</td>\n",
       "      <td>1865166</td>\n",
       "      <td>1865166</td>\n",
       "      <td>Eastern</td>\n",
       "      <td>KEN</td>\n",
       "      <td>Kenya</td>\n",
       "      <td>people with insufficient food consumption</td>\n",
       "      <td>World Food Programme</td>\n",
       "    </tr>\n",
       "    <tr>\n",
       "      <th>1</th>\n",
       "      <td>2023-10-17 00:00:00</td>\n",
       "      <td>1850322</td>\n",
       "      <td>1850322</td>\n",
       "      <td>1850322</td>\n",
       "      <td>Eastern</td>\n",
       "      <td>KEN</td>\n",
       "      <td>Kenya</td>\n",
       "      <td>people with insufficient food consumption</td>\n",
       "      <td>World Food Programme</td>\n",
       "    </tr>\n",
       "    <tr>\n",
       "      <th>2</th>\n",
       "      <td>2023-10-18 00:00:00</td>\n",
       "      <td>1947947</td>\n",
       "      <td>1947947</td>\n",
       "      <td>1947947</td>\n",
       "      <td>Eastern</td>\n",
       "      <td>KEN</td>\n",
       "      <td>Kenya</td>\n",
       "      <td>people with insufficient food consumption</td>\n",
       "      <td>World Food Programme</td>\n",
       "    </tr>\n",
       "    <tr>\n",
       "      <th>3</th>\n",
       "      <td>2023-10-19 00:00:00</td>\n",
       "      <td>1916714</td>\n",
       "      <td>1916714</td>\n",
       "      <td>1916714</td>\n",
       "      <td>Eastern</td>\n",
       "      <td>KEN</td>\n",
       "      <td>Kenya</td>\n",
       "      <td>people with insufficient food consumption</td>\n",
       "      <td>World Food Programme</td>\n",
       "    </tr>\n",
       "    <tr>\n",
       "      <th>4</th>\n",
       "      <td>2023-10-20 00:00:00</td>\n",
       "      <td>1783513</td>\n",
       "      <td>1783513</td>\n",
       "      <td>1783513</td>\n",
       "      <td>Eastern</td>\n",
       "      <td>KEN</td>\n",
       "      <td>Kenya</td>\n",
       "      <td>people with insufficient food consumption</td>\n",
       "      <td>World Food Programme</td>\n",
       "    </tr>\n",
       "  </tbody>\n",
       "</table>\n",
       "</div>"
      ]
     },
     "execution_count": 17,
     "metadata": {},
     "output_type": "execute_result"
    }
   ],
   "execution_count": 17
  },
  {
   "metadata": {},
   "cell_type": "markdown",
   "source": "To see available countries call the `available_countries` attribute which returns a dataframe with available countries and relevant information",
   "id": "8be148d03fb3aee2"
  },
  {
   "metadata": {
    "ExecuteTime": {
     "end_time": "2024-11-22T09:42:45.457563Z",
     "start_time": "2024-11-22T09:42:45.436158Z"
    }
   },
   "cell_type": "code",
   "source": [
    "countries = wfp_fs.available_countries\n",
    "countries.head()"
   ],
   "id": "36c474893b8d09a",
   "outputs": [
    {
     "data": {
      "text/plain": [
       "  iso3_code  entity_code    data_type        country_name\n",
       "0       COL           57  ACTUAL DATA            Colombia\n",
       "1       DOM           72  ACTUAL DATA  Dominican Republic\n",
       "2       ECU           73  ACTUAL DATA             Ecuador\n",
       "3       HTI          108  ACTUAL DATA               Haiti\n",
       "4       PER          195   PREDICTION                Peru"
      ],
      "text/html": [
       "<div>\n",
       "<style scoped>\n",
       "    .dataframe tbody tr th:only-of-type {\n",
       "        vertical-align: middle;\n",
       "    }\n",
       "\n",
       "    .dataframe tbody tr th {\n",
       "        vertical-align: top;\n",
       "    }\n",
       "\n",
       "    .dataframe thead th {\n",
       "        text-align: right;\n",
       "    }\n",
       "</style>\n",
       "<table border=\"1\" class=\"dataframe\">\n",
       "  <thead>\n",
       "    <tr style=\"text-align: right;\">\n",
       "      <th></th>\n",
       "      <th>iso3_code</th>\n",
       "      <th>entity_code</th>\n",
       "      <th>data_type</th>\n",
       "      <th>country_name</th>\n",
       "    </tr>\n",
       "  </thead>\n",
       "  <tbody>\n",
       "    <tr>\n",
       "      <th>0</th>\n",
       "      <td>COL</td>\n",
       "      <td>57</td>\n",
       "      <td>ACTUAL DATA</td>\n",
       "      <td>Colombia</td>\n",
       "    </tr>\n",
       "    <tr>\n",
       "      <th>1</th>\n",
       "      <td>DOM</td>\n",
       "      <td>72</td>\n",
       "      <td>ACTUAL DATA</td>\n",
       "      <td>Dominican Republic</td>\n",
       "    </tr>\n",
       "    <tr>\n",
       "      <th>2</th>\n",
       "      <td>ECU</td>\n",
       "      <td>73</td>\n",
       "      <td>ACTUAL DATA</td>\n",
       "      <td>Ecuador</td>\n",
       "    </tr>\n",
       "    <tr>\n",
       "      <th>3</th>\n",
       "      <td>HTI</td>\n",
       "      <td>108</td>\n",
       "      <td>ACTUAL DATA</td>\n",
       "      <td>Haiti</td>\n",
       "    </tr>\n",
       "    <tr>\n",
       "      <th>4</th>\n",
       "      <td>PER</td>\n",
       "      <td>195</td>\n",
       "      <td>PREDICTION</td>\n",
       "      <td>Peru</td>\n",
       "    </tr>\n",
       "  </tbody>\n",
       "</table>\n",
       "</div>"
      ]
     },
     "execution_count": 14,
     "metadata": {},
     "output_type": "execute_result"
    }
   ],
   "execution_count": 14
  },
  {
   "metadata": {},
   "cell_type": "markdown",
   "source": "#### Caching",
   "id": "de55c8158374477a"
  },
  {
   "metadata": {},
   "cell_type": "markdown",
   "source": "The imported data is cached in the object to avoid repeated downloads. At any time you can clear the cache by calling the `clear_cache` method.",
   "id": "0dca9039-a1cb-40cd-8e46-ae79819e44d8"
  },
  {
   "cell_type": "code",
   "id": "884a2e0b-20ff-406f-bd46-9340309f7266",
   "metadata": {
    "ExecuteTime": {
     "end_time": "2024-11-22T09:44:27.906860Z",
     "start_time": "2024-11-22T09:44:27.894068Z"
    }
   },
   "source": [
    "wfp_infl.clear_cache() # clear the inflation cache\n",
    "wfp_fs.clear_cache() #  clear the food security cache"
   ],
   "outputs": [
    {
     "name": "stderr",
     "output_type": "stream",
     "text": [
      "INFO: Cache cleared\n",
      "INFO: Cache cleared\n"
     ]
    }
   ],
   "execution_count": 16
  },
  {
   "metadata": {},
   "cell_type": "code",
   "outputs": [],
   "execution_count": null,
   "source": "",
   "id": "c7072360f796802"
  }
 ],
 "metadata": {
  "kernelspec": {
   "display_name": "Python 3 (ipykernel)",
   "language": "python",
   "name": "python3"
  },
  "language_info": {
   "codemirror_mode": {
    "name": "ipython",
    "version": 3
   },
   "file_extension": ".py",
   "mimetype": "text/x-python",
   "name": "python",
   "nbconvert_exporter": "python",
   "pygments_lexer": "ipython3",
   "version": "3.10.15"
  }
 },
 "nbformat": 4,
 "nbformat_minor": 5
}
